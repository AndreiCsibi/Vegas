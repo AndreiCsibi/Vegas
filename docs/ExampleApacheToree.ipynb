{
 "cells": [
  {
   "cell_type": "code",
   "execution_count": 1,
   "metadata": {
    "collapsed": false
   },
   "outputs": [
    {
     "name": "stdout",
     "output_type": "stream",
     "text": [
      "Marking com.github.aishfenton:vegas_2.10:0.2.1 for download\n",
      "Preparing to fetch from:\n",
      "-> file:/tmp/.ivy2/\n",
      "-> https://repo1.maven.org/maven2\n",
      "-> New file at /tmp/.ivy2/https/repo1.maven.org/maven2/com/github/julien-truffaut/monocle-macro_2.10/1.1.0/monocle-macro_2.10-1.1.0.jar\n",
      "-> New file at /tmp/.ivy2/https/repo1.maven.org/maven2/com/github/aishfenton/vegas_2.10/0.2.1/vegas_2.10-0.2.1.jar\n",
      "-> New file at /tmp/.ivy2/https/repo1.maven.org/maven2/com/github/julien-truffaut/monocle-core_2.10/1.1.0/monocle-core_2.10-1.1.0.jar\n",
      "-> New file at /tmp/.ivy2/https/repo1.maven.org/maven2/org/scalafx/scalafx_2.10/8.0.92-R10/scalafx_2.10-8.0.92-R10.jar\n",
      "-> New file at /tmp/.ivy2/https/repo1.maven.org/maven2/io/argonaut/argonaut_2.10/6.1/argonaut_2.10-6.1.jar\n",
      "-> New file at /tmp/.ivy2/https/repo1.maven.org/maven2/org/scalaz/scalaz-core_2.10/7.1.1/scalaz-core_2.10-7.1.1.jar\n"
     ]
    }
   ],
   "source": [
    "%AddDeps com.github.aishfenton vegas_2.10 0.2.1 --transitive"
   ]
  },
  {
   "cell_type": "code",
   "execution_count": 3,
   "metadata": {
    "collapsed": false
   },
   "outputs": [],
   "source": [
    "import vegas._\n",
    "import vegas.render.HTMLRenderer._\n",
    "implicit val displayer: String => Unit = { s => kernel.display.content(\"text/html\", s) }"
   ]
  },
  {
   "cell_type": "code",
   "execution_count": 5,
   "metadata": {
    "collapsed": false
   },
   "outputs": [
    {
     "data": {
      "text/html": [
       "\n",
       "  <iframe id=\"frame-vegas-5cb6bf65-ec6a-449b-8b59-b4bc14ef8590\" sandbox=\"allow-scripts allow-same-origin\" style=\"border: none; width: 100%\" srcdoc=\"&lt;html&gt;\n",
       "  &lt;head&gt;\n",
       "    &lt;script src=&quot;https:////d3js.org/d3.v3.min.js&quot; charset=&quot;utf-8&quot;&gt;&lt;/script&gt;\n",
       "&lt;script src=&quot;https://vega.github.io/vega/vega.js&quot; charset=&quot;utf-8&quot;&gt;&lt;/script&gt;\n",
       "&lt;script src=&quot;https://vega.github.io/vega-lite/vega-lite.js&quot; charset=&quot;utf-8&quot;&gt;&lt;/script&gt;\n",
       "&lt;script src=&quot;https://vega.github.io/vega-editor/vendor/vega-embed.js&quot; charset=&quot;utf-8&quot;&gt;&lt;/script&gt;\n",
       "  &lt;/head&gt;\n",
       "  &lt;body&gt;\n",
       " &lt;script&gt;\n",
       "   var embedSpec = {\n",
       "     mode: &quot;vega-lite&quot;,\n",
       "     spec: {&quot;description&quot;:&quot;A simple bar chart with embedded data&quot;,&quot;data&quot;:{&quot;values&quot;:[{&quot;a&quot;:&quot;A&quot;,&quot;b&quot;:&quot;28&quot;},{&quot;a&quot;:&quot;B&quot;,&quot;b&quot;:&quot;55&quot;},{&quot;a&quot;:&quot;C&quot;,&quot;b&quot;:&quot;43&quot;},{&quot;a&quot;:&quot;D&quot;,&quot;b&quot;:&quot;91&quot;},{&quot;a&quot;:&quot;E&quot;,&quot;b&quot;:&quot;81&quot;},{&quot;a&quot;:&quot;F&quot;,&quot;b&quot;:&quot;53&quot;},{&quot;a&quot;:&quot;G&quot;,&quot;b&quot;:&quot;19&quot;},{&quot;a&quot;:&quot;H&quot;,&quot;b&quot;:&quot;87&quot;},{&quot;a&quot;:&quot;I&quot;,&quot;b&quot;:&quot;52&quot;}]},&quot;encoding&quot;:{&quot;x&quot;:{&quot;field&quot;:&quot;a&quot;,&quot;type&quot;:&quot;ordinal&quot;},&quot;y&quot;:{&quot;field&quot;:&quot;b&quot;,&quot;type&quot;:&quot;quantitative&quot;}},&quot;mark&quot;:&quot;bar&quot;}\n",
       "   }\n",
       "   vg.embed(&quot;#vegas-5cb6bf65-ec6a-449b-8b59-b4bc14ef8590&quot;, embedSpec, function(error, result) {});\n",
       " &lt;/script&gt;\n",
       " &lt;div id='vegas-5cb6bf65-ec6a-449b-8b59-b4bc14ef8590'&gt;&lt;/div&gt;\n",
       "    &lt;/body&gt;\n",
       "&lt;/html&gt;\"></iframe>\n",
       "  <script>\n",
       "    if (typeof resizeIFrame != 'function') {\n",
       "      function resizeIFrame(el, k) {\n",
       "        el.style.height = el.contentWindow.document.body.scrollHeight + 'px';\n",
       "        if (k <= 3) { setTimeout(function() { resizeIFrame(el, k+1) }, 1000) };\n",
       "      }\n",
       "    }\n",
       "    $().ready( function() { resizeIFrame($('#frame-vegas-5cb6bf65-ec6a-449b-8b59-b4bc14ef8590').get(0), 1); });\n",
       "  </script>\n",
       "    "
      ]
     },
     "metadata": {},
     "output_type": "display_data"
    }
   ],
   "source": [
    " Vegas(\"A simple bar chart with embedded data\").\n",
    "  withData(\n",
    "    Map(\"a\" -> \"A\", \"b\" -> 28), Map(\"a\" -> \"B\", \"b\" -> 55), Map(\"a\" -> \"C\", \"b\" -> 43), \n",
    "    Map(\"a\" -> \"D\", \"b\" -> 91), Map(\"a\" -> \"E\", \"b\" -> 81), Map(\"a\" -> \"F\", \"b\" -> 53), \n",
    "    Map(\"a\" -> \"G\", \"b\" -> 19), Map(\"a\" -> \"H\", \"b\" -> 87), Map(\"a\" -> \"I\", \"b\" -> 52)\n",
    "  ).\n",
    "  mark(Bar).\n",
    "  encodeX(\"a\", Ordinal).\n",
    "  encodeY(\"b\", Quantitative).\n",
    "  show"
   ]
  },
  {
   "cell_type": "code",
   "execution_count": 2,
   "metadata": {
    "collapsed": false
   },
   "outputs": [
    {
     "data": {
      "text/plain": [
       "version 2.10.5"
      ]
     },
     "execution_count": 2,
     "metadata": {},
     "output_type": "execute_result"
    }
   ],
   "source": []
  },
  {
   "cell_type": "code",
   "execution_count": null,
   "metadata": {
    "collapsed": true
   },
   "outputs": [],
   "source": []
  }
 ],
 "metadata": {
  "kernelspec": {
   "display_name": "Toree - Scala",
   "language": "scala",
   "name": "toree_scala"
  },
  "language_info": {
   "name": "scala"
  }
 },
 "nbformat": 4,
 "nbformat_minor": 0
}
