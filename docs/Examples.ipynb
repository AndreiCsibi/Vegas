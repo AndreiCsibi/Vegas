{
 "cells": [
  {
   "cell_type": "code",
   "execution_count": 1,
   "metadata": {
    "collapsed": false
   },
   "outputs": [
    {
     "data": {
      "text/plain": []
     },
     "metadata": {},
     "output_type": "display_data"
    }
   ],
   "source": [
    "load.jar(\"../core/target/scala-2.11/vegas-assembly-0.1.0.jar\")\n",
    "\n",
    "// Normally use this, but we're using local jar for testing.\n",
    "// load.ivy(\"com.github.aishfenton\" %% \"vegas\" % \"0.1.0\")"
   ]
  },
  {
   "cell_type": "code",
   "execution_count": 2,
   "metadata": {
    "collapsed": false,
    "scrolled": true
   },
   "outputs": [
    {
     "data": {
      "text/plain": [
       "\u001b[32mimport \u001b[36mvegas._\u001b[0m\n",
       "\u001b[32mimport \u001b[36mvegas.render.StaticHTMLRenderer._\u001b[0m\n",
       "\u001b[36mdisplayer\u001b[0m: \u001b[32mString\u001b[0m => \u001b[32mUnit\u001b[0m = <function1>"
      ]
     },
     "metadata": {},
     "output_type": "display_data"
    }
   ],
   "source": [
    "import vegas._\n",
    "import vegas.render.StaticHTMLRenderer._\n",
    "\n",
    "implicit val displayer: String => Unit = display.html(_)"
   ]
  },
  {
   "cell_type": "code",
   "execution_count": 5,
   "metadata": {
    "collapsed": false,
    "scrolled": true
   },
   "outputs": [
    {
     "data": {
      "text/html": [
       "\n",
       "  <iframe id=\"frame-vegas-f4a6bb8f-f399-4dfe-8f1d-c71c144c0427\" sandbox=\"allow-scripts allow-same-origin\" style=\"border: none; width: 100%\" srcdoc=\"&lt;html&gt;\n",
       "  &lt;head&gt;\n",
       "    &lt;script src=&quot;https:////d3js.org/d3.v3.min.js&quot; charset=&quot;utf-8&quot;&gt;&lt;/script&gt;\n",
       "&lt;script src=&quot;https://vega.github.io/vega/vega.js&quot; charset=&quot;utf-8&quot;&gt;&lt;/script&gt;\n",
       "&lt;script src=&quot;https://vega.github.io/vega-lite/vega-lite.js&quot; charset=&quot;utf-8&quot;&gt;&lt;/script&gt;\n",
       "&lt;script src=&quot;https://vega.github.io/vega-editor/vendor/vega-embed.js&quot; charset=&quot;utf-8&quot;&gt;&lt;/script&gt;\n",
       "  &lt;/head&gt;\n",
       "  &lt;body&gt;\n",
       " &lt;script&gt;\n",
       "   var embedSpec = {\n",
       "     mode: &quot;vega-lite&quot;,\n",
       "     spec: {&quot;description&quot;:&quot;A simple bar chart with embedded data&quot;,&quot;data&quot;:{&quot;values&quot;:[{&quot;a&quot;:&quot;A&quot;,&quot;b&quot;:&quot;28&quot;},{&quot;a&quot;:&quot;B&quot;,&quot;b&quot;:&quot;55&quot;},{&quot;a&quot;:&quot;C&quot;,&quot;b&quot;:&quot;43&quot;},{&quot;a&quot;:&quot;D&quot;,&quot;b&quot;:&quot;91&quot;},{&quot;a&quot;:&quot;E&quot;,&quot;b&quot;:&quot;81&quot;},{&quot;a&quot;:&quot;F&quot;,&quot;b&quot;:&quot;53&quot;},{&quot;a&quot;:&quot;G&quot;,&quot;b&quot;:&quot;19&quot;},{&quot;a&quot;:&quot;H&quot;,&quot;b&quot;:&quot;87&quot;},{&quot;a&quot;:&quot;I&quot;,&quot;b&quot;:&quot;52&quot;}]},&quot;encoding&quot;:{&quot;x&quot;:{&quot;field&quot;:&quot;a&quot;,&quot;axis&quot;:{&quot;tickLabelFontSize&quot;:16,&quot;tickColor&quot;:&quot;red&quot;,&quot;titleFontSize&quot;:20},&quot;type&quot;:&quot;ordinal&quot;},&quot;y&quot;:{&quot;field&quot;:&quot;b&quot;,&quot;axis&quot;:{&quot;grid&quot;:false,&quot;ticks&quot;:2,&quot;tickLabelFontSize&quot;:16,&quot;titleFontSize&quot;:20},&quot;type&quot;:&quot;quantitative&quot;}},&quot;mark&quot;:&quot;bar&quot;}\n",
       "   }\n",
       "   vg.embed(&quot;#vegas-f4a6bb8f-f399-4dfe-8f1d-c71c144c0427&quot;, embedSpec, function(error, result) {});\n",
       " &lt;/script&gt;\n",
       " &lt;div id='vegas-f4a6bb8f-f399-4dfe-8f1d-c71c144c0427'&gt;&lt;/div&gt;\n",
       "    &lt;/body&gt;\n",
       "&lt;/html&gt;\"></iframe>\n",
       "  <script>\n",
       "    if (typeof resizeIFrame != 'function') {\n",
       "      function resizeIFrame(el, k) {\n",
       "        el.style.height = el.contentWindow.document.body.scrollHeight + 'px';\n",
       "        if (k <= 3) { setTimeout(function() { resizeIFrame(el, k+1) }, 1000) };\n",
       "      }\n",
       "    }\n",
       "    $().ready( function() { resizeIFrame($('#frame-vegas-f4a6bb8f-f399-4dfe-8f1d-c71c144c0427').get(0), 1); });\n",
       "  </script>\n",
       "    "
      ]
     },
     "metadata": {},
     "output_type": "display_data"
    },
    {
     "data": {
      "text/plain": []
     },
     "metadata": {},
     "output_type": "display_data"
    }
   ],
   "source": [
    "Vegas(\"A simple bar chart with embedded data\").\n",
    "  withData(\n",
    "    Map(\"a\" -> \"A\", \"b\" -> 28), Map(\"a\" -> \"B\", \"b\" -> 55), Map(\"a\" -> \"C\", \"b\" -> 43), \n",
    "    Map(\"a\" -> \"D\", \"b\" -> 91), Map(\"a\" -> \"E\", \"b\" -> 81), Map(\"a\" -> \"F\", \"b\" -> 53), \n",
    "    Map(\"a\" -> \"G\", \"b\" -> 19), Map(\"a\" -> \"H\", \"b\" -> 87), Map(\"a\" -> \"I\", \"b\" -> 52)\n",
    "  ).\n",
    "  mark(Bar).\n",
    "  encodeX(\"a\", Ordinal).\n",
    "  encodeY(\"b\", Quantitative).\n",
    "  axisY(ticks=2,grid=false,tickLabelFontSize=16,titleFontSize=20).\n",
    "  axisX(tickLabelFontSize=16,titleFontSize=20,tickColor=\"red\").\n",
    "  show"
   ]
  },
  {
   "cell_type": "code",
   "execution_count": 4,
   "metadata": {
    "collapsed": false
   },
   "outputs": [
    {
     "data": {
      "text/html": [
       "\n",
       "  <iframe id=\"frame-vegas-893d0ee9-d120-4aac-b09d-4d1ca344bf44\" sandbox=\"allow-scripts allow-same-origin\" style=\"border: none; width: 100%\" srcdoc=\"&lt;html&gt;\n",
       "  &lt;head&gt;\n",
       "    &lt;script src=&quot;https:////d3js.org/d3.v3.min.js&quot; charset=&quot;utf-8&quot;&gt;&lt;/script&gt;\n",
       "&lt;script src=&quot;https://vega.github.io/vega/vega.js&quot; charset=&quot;utf-8&quot;&gt;&lt;/script&gt;\n",
       "&lt;script src=&quot;https://vega.github.io/vega-lite/vega-lite.js&quot; charset=&quot;utf-8&quot;&gt;&lt;/script&gt;\n",
       "&lt;script src=&quot;https://vega.github.io/vega-editor/vendor/vega-embed.js&quot; charset=&quot;utf-8&quot;&gt;&lt;/script&gt;\n",
       "  &lt;/head&gt;\n",
       "  &lt;body&gt;\n",
       " &lt;script&gt;\n",
       "   var embedSpec = {\n",
       "     mode: &quot;vega-lite&quot;,\n",
       "     spec: {&quot;description&quot;:&quot;A bar chart showing the US population distribution of age groups in 2000.&quot;,&quot;data&quot;:{&quot;url&quot;:&quot;data/population.json&quot;,&quot;formatType&quot;:&quot;json&quot;},&quot;encoding&quot;:{&quot;x&quot;:{&quot;field&quot;:&quot;people&quot;,&quot;aggregate&quot;:&quot;sum&quot;,&quot;axis&quot;:{&quot;title&quot;:&quot;population&quot;},&quot;type&quot;:&quot;quantitative&quot;},&quot;y&quot;:{&quot;field&quot;:&quot;age&quot;,&quot;scale&quot;:{&quot;bandSize&quot;:17},&quot;type&quot;:&quot;ordinal&quot;}},&quot;mark&quot;:&quot;bar&quot;,&quot;transform&quot;:{&quot;filter&quot;:&quot;datum.year == 2000&quot;}}\n",
       "   }\n",
       "   vg.embed(&quot;#vegas-893d0ee9-d120-4aac-b09d-4d1ca344bf44&quot;, embedSpec, function(error, result) {});\n",
       " &lt;/script&gt;\n",
       " &lt;div id='vegas-893d0ee9-d120-4aac-b09d-4d1ca344bf44'&gt;&lt;/div&gt;\n",
       "    &lt;/body&gt;\n",
       "&lt;/html&gt;\"></iframe>\n",
       "  <script>\n",
       "    if (typeof resizeIFrame != 'function') {\n",
       "      function resizeIFrame(el, k) {\n",
       "        el.style.height = el.contentWindow.document.body.scrollHeight + 'px';\n",
       "        if (k <= 3) { setTimeout(function() { resizeIFrame(el, k+1) }, 1000) };\n",
       "      }\n",
       "    }\n",
       "    $().ready( function() { resizeIFrame($('#frame-vegas-893d0ee9-d120-4aac-b09d-4d1ca344bf44').get(0), 1); });\n",
       "  </script>\n",
       "    "
      ]
     },
     "metadata": {},
     "output_type": "display_data"
    },
    {
     "data": {
      "text/plain": []
     },
     "metadata": {},
     "output_type": "display_data"
    }
   ],
   "source": [
    "Vegas(\"A bar chart showing the US population distribution of age groups in 2000.\").\n",
    "  withData(\"data/population.json\", JSON).\n",
    "  transformFilter(\"datum.year == 2000\").\n",
    "  encodeY(\"age\", Ordinal).\n",
    "  encodeX(\"people\", Quantitative, Sum).\n",
    "  axisX(title = \"population\").\n",
    "  scaleY(bandSize=17).\n",
    "  mark(Bar).\n",
    "  show"
   ]
  },
  {
   "cell_type": "code",
   "execution_count": 4,
   "metadata": {
    "collapsed": false
   },
   "outputs": [
    {
     "data": {
      "text/html": [
       "\n",
       "  <iframe id=\"frame-vegas-7d7d9858-6921-40d7-873a-c140b9c46183\" sandbox=\"allow-scripts allow-same-origin\" style=\"border: none; width: 100%\" srcdoc=\"&lt;html&gt;\n",
       "  &lt;head&gt;\n",
       "    &lt;script src=&quot;https:////d3js.org/d3.v3.min.js&quot; charset=&quot;utf-8&quot;&gt;&lt;/script&gt;\n",
       "&lt;script src=&quot;https://vega.github.io/vega/vega.js&quot; charset=&quot;utf-8&quot;&gt;&lt;/script&gt;\n",
       "&lt;script src=&quot;https://vega.github.io/vega-lite/vega-lite.js&quot; charset=&quot;utf-8&quot;&gt;&lt;/script&gt;\n",
       "&lt;script src=&quot;https://vega.github.io/vega-editor/vendor/vega-embed.js&quot; charset=&quot;utf-8&quot;&gt;&lt;/script&gt;\n",
       "  &lt;/head&gt;\n",
       "  &lt;body&gt;\n",
       " &lt;script&gt;\n",
       "   var embedSpec = {\n",
       "     mode: &quot;vega-lite&quot;,\n",
       "     spec: {&quot;description&quot;:&quot;&quot;,&quot;data&quot;:{&quot;url&quot;:&quot;data/population.json&quot;,&quot;formatType&quot;:&quot;json&quot;},&quot;encoding&quot;:{&quot;x&quot;:{&quot;field&quot;:&quot;gender&quot;,&quot;scale&quot;:{&quot;bandSize&quot;:6},&quot;axis&quot;:false,&quot;type&quot;:&quot;nominal&quot;},&quot;y&quot;:{&quot;field&quot;:&quot;people&quot;,&quot;aggregate&quot;:&quot;sum&quot;,&quot;axis&quot;:{&quot;grid&quot;:false,&quot;title&quot;:&quot;population&quot;},&quot;type&quot;:&quot;quantitative&quot;},&quot;color&quot;:{&quot;field&quot;:&quot;gender&quot;,&quot;scale&quot;:{&quot;range&quot;:[&quot;#EA98D2&quot;,&quot;#659CCA&quot;]},&quot;type&quot;:&quot;nominal&quot;},&quot;column&quot;:{&quot;field&quot;:&quot;age&quot;,&quot;scale&quot;:{&quot;padding&quot;:4},&quot;axis&quot;:{&quot;offset&quot;:-8,&quot;orient&quot;:&quot;bottom&quot;,&quot;axisWidth&quot;:1},&quot;type&quot;:&quot;ordinal&quot;}},&quot;mark&quot;:&quot;bar&quot;,&quot;transform&quot;:{&quot;calculate&quot;:[{&quot;field&quot;:&quot;gender&quot;,&quot;expr&quot;:&quot;datum.sex == 2 ? 'Female' : 'Male'&quot;}],&quot;filter&quot;:&quot;datum.year == 2000&quot;}}\n",
       "   }\n",
       "   vg.embed(&quot;#vegas-7d7d9858-6921-40d7-873a-c140b9c46183&quot;, embedSpec, function(error, result) {});\n",
       " &lt;/script&gt;\n",
       " &lt;div id='vegas-7d7d9858-6921-40d7-873a-c140b9c46183'&gt;&lt;/div&gt;\n",
       "    &lt;/body&gt;\n",
       "&lt;/html&gt;\"></iframe>\n",
       "  <script>\n",
       "    if (typeof resizeIFrame != 'function') {\n",
       "      function resizeIFrame(el, k) {\n",
       "        el.style.height = el.contentWindow.document.body.scrollHeight + 'px';\n",
       "        if (k <= 3) { setTimeout(function() { resizeIFrame(el, k+1) }, 1000) };\n",
       "      }\n",
       "    }\n",
       "    $().ready( function() { resizeIFrame($('#frame-vegas-7d7d9858-6921-40d7-873a-c140b9c46183').get(0), 1); });\n",
       "  </script>\n",
       "    "
      ]
     },
     "metadata": {},
     "output_type": "display_data"
    },
    {
     "data": {
      "text/plain": []
     },
     "metadata": {},
     "output_type": "display_data"
    }
   ],
   "source": [
    "Vegas().\n",
    "  withData(\"data/population.json\", JSON).\n",
    "  transformFilter(\"datum.year == 2000\").\n",
    "  addTransformCalculation(\"gender\", \"datum.sex == 2 ? 'Female' : 'Male'\").\n",
    "  encodeColumn(\"age\", Ordinal).\n",
    "  scaleColumn(padding= 4).\n",
    "  axisColumn(orient=Bottom, axisWidth=1, offset= -8).\n",
    "  encodeX(\"gender\", Nominal).\n",
    "  axisX(hide = true).\n",
    "  scaleX(bandSize=6).\n",
    "  encodeY(\"people\", Quantitative, aggregate=Sum).\n",
    "  axisY(title = \"population\", grid=false).\n",
    "  encodeColor(\"gender\", Nominal).\n",
    "  scaleColor(range=Seq(\"#EA98D2\", \"#659CCA\")).\n",
    "  mark(Bar).\n",
    "  show\n"
   ]
  },
  {
   "cell_type": "markdown",
   "metadata": {},
   "source": [
    "\"\"\"\n",
    "{\n",
    "  \"data\": {\"url\": \"data/unemployment-across-industries.json\"},\n",
    "  \"mark\": \"area\",\n",
    "  \"encoding\": {\n",
    "    \"x\": {\n",
    "      \"timeUnit\": \"yearmonth\", \"field\": \"date\", \"type\": \"temporal\",\n",
    "      \"scale\": {\"nice\": \"month\"},\n",
    "      \"axis\": {\"axisWidth\": 0, \"format\": \"%Y\", \"labelAngle\": 0, \"tickSize\": 0}\n",
    "    },\n",
    "    \"y\": {\n",
    "      \"aggregate\": \"sum\", \"field\": \"count\",\"type\": \"quantitative\",\n",
    "      \"axis\": false\n",
    "    },\n",
    "    \"color\": {\"field\":\"series\", \"type\":\"nominal\", \"scale\":{\"range\": \"category20b\"}}\n",
    "  },\n",
    "  \"config\": {\"cell\": {\"width\": 300, \"height\": 200}, \"mark\": {\"stacked\": \"center\"}}\n",
    "}\n",
    "\"\"\""
   ]
  },
  {
   "cell_type": "code",
   "execution_count": 27,
   "metadata": {
    "collapsed": false
   },
   "outputs": [
    {
     "data": {
      "text/html": [
       "\n",
       "  <iframe id=\"frame-vegas-ea514d0a-980a-4cc3-bab1-042ed97b027b\" sandbox=\"allow-scripts allow-same-origin\" style=\"border: none; width: 100%\" srcdoc=\"&lt;html&gt;\n",
       "  &lt;head&gt;\n",
       "    &lt;script src=&quot;https:////d3js.org/d3.v3.min.js&quot; charset=&quot;utf-8&quot;&gt;&lt;/script&gt;\n",
       "&lt;script src=&quot;https://vega.github.io/vega/vega.js&quot; charset=&quot;utf-8&quot;&gt;&lt;/script&gt;\n",
       "&lt;script src=&quot;https://vega.github.io/vega-lite/vega-lite.js&quot; charset=&quot;utf-8&quot;&gt;&lt;/script&gt;\n",
       "&lt;script src=&quot;https://vega.github.io/vega-editor/vendor/vega-embed.js&quot; charset=&quot;utf-8&quot;&gt;&lt;/script&gt;\n",
       "  &lt;/head&gt;\n",
       "  &lt;body&gt;\n",
       " &lt;script&gt;\n",
       "   var embedSpec = {\n",
       "     mode: &quot;vega-lite&quot;,\n",
       "     spec: {&quot;description&quot;:&quot;&quot;,&quot;data&quot;:{&quot;url&quot;:&quot;data/unemployment-across-industries.json&quot;,&quot;formatType&quot;:&quot;json&quot;},&quot;encoding&quot;:{&quot;x&quot;:{&quot;field&quot;:&quot;date&quot;,&quot;type&quot;:&quot;temporal&quot;},&quot;y&quot;:{&quot;field&quot;:&quot;count&quot;,&quot;aggregate&quot;:&quot;sum&quot;,&quot;type&quot;:&quot;quantitative&quot;},&quot;color&quot;:{&quot;field&quot;:&quot;series&quot;,&quot;scale&quot;:{&quot;range&quot;:&quot;category20b&quot;},&quot;type&quot;:&quot;nominal&quot;}},&quot;mark&quot;:&quot;area&quot;}\n",
       "   }\n",
       "   vg.embed(&quot;#vegas-ea514d0a-980a-4cc3-bab1-042ed97b027b&quot;, embedSpec, function(error, result) {});\n",
       " &lt;/script&gt;\n",
       " &lt;div id='vegas-ea514d0a-980a-4cc3-bab1-042ed97b027b'&gt;&lt;/div&gt;\n",
       "    &lt;/body&gt;\n",
       "&lt;/html&gt;\"></iframe>\n",
       "  <script>\n",
       "    if (typeof resizeIFrame != 'function') {\n",
       "      function resizeIFrame(el, k) {\n",
       "        el.style.height = el.contentWindow.document.body.scrollHeight + 'px';\n",
       "        if (k <= 3) { setTimeout(function() { resizeIFrame(el, k+1) }, 1000) };\n",
       "      }\n",
       "    }\n",
       "    $().ready( function() { resizeIFrame($('#frame-vegas-ea514d0a-980a-4cc3-bab1-042ed97b027b').get(0), 1); });\n",
       "  </script>\n",
       "    "
      ]
     },
     "metadata": {},
     "output_type": "display_data"
    },
    {
     "data": {
      "text/plain": []
     },
     "metadata": {},
     "output_type": "display_data"
    }
   ],
   "source": [
    "Vegas().\n",
    "withData(\"data/unemployment-across-industries.json\", JSON).\n",
    "encodeX(\"date\",Temporal).\n",
    "encodeY(\"count\",Quantitative,aggregate=Sum).\n",
    "mark(Area).\n",
    "encodeColor(\"series\",Nominal).\n",
    "scaleColor(rangePreset=Category20b).\n",
    "show"
   ]
  },
  {
   "cell_type": "code",
   "execution_count": 30,
   "metadata": {
    "collapsed": false
   },
   "outputs": [
    {
     "data": {
      "text/plain": [
       "\u001b[36mres21\u001b[0m: \u001b[32mString\u001b[0m = \u001b[32m\"\"\"\n",
       "<html>\n",
       "  <head>\n",
       "    <script src=\"https:////d3js.org/d3.v3.min.js\" charset=\"utf-8\"></script>\n",
       "<script src=\"https://vega.github.io/vega/vega.js\" charset=\"utf-8\"></script>\n",
       "<script src=\"https://vega.github.io/vega-lite/vega-lite.js\" charset=\"utf-8\"></script>\n",
       "<script src=\"https://vega.github.io/vega-editor/vendor/vega-embed.js\" charset=\"utf-8\"></script>\n",
       "  </head>\n",
       "  <body>\n",
       " <script>\n",
       "   var embedSpec = {\n",
       "     mode: \"vega-lite\",\n",
       "     spec: {\"description\":\"\",\"data\":{\"url\":\"data/unemployment-across-industries.json\",\"formatType\":\"json\"},\"encoding\":{\"x\":{\"field\":\"date\",\"type\":\"temporal\"},\"y\":{\"field\":\"count\",\"aggregate\":\"sum\",\"type\":\"quantitative\"},\"color\":{\"field\":\"series\",\"scale\":{\"range\":\"category20b\"},\"type\":\"nominal\"}},\"ma\u001b[33m...\u001b[0m"
      ]
     },
     "metadata": {},
     "output_type": "display_data"
    }
   ],
   "source": [
    "Vegas().\n",
    "withData(\"data/unemployment-across-industries.json\", JSON).\n",
    "encodeX(\"date\",Temporal).\n",
    "encodeY(\"count\",Quantitative,aggregate=Sum).\n",
    "mark(Area).\n",
    "encodeColor(\"series\",Nominal).\n",
    "scaleColor(rangePreset=Category20b).pageHTML()"
   ]
  },
  {
   "cell_type": "code",
   "execution_count": 31,
   "metadata": {
    "collapsed": false
   },
   "outputs": [
    {
     "data": {
      "text/html": [
       "\n",
       "  <iframe id=\"frame-vegas-41f95ea5-ce1f-4746-ab3d-863b11852b1a\" sandbox=\"allow-scripts allow-same-origin\" style=\"border: none; width: 100%\" srcdoc=\"&lt;html&gt;\n",
       "  &lt;head&gt;\n",
       "    &lt;script src=&quot;https:////d3js.org/d3.v3.min.js&quot; charset=&quot;utf-8&quot;&gt;&lt;/script&gt;\n",
       "&lt;script src=&quot;https://vega.github.io/vega/vega.js&quot; charset=&quot;utf-8&quot;&gt;&lt;/script&gt;\n",
       "&lt;script src=&quot;https://vega.github.io/vega-lite/vega-lite.js&quot; charset=&quot;utf-8&quot;&gt;&lt;/script&gt;\n",
       "&lt;script src=&quot;https://vega.github.io/vega-editor/vendor/vega-embed.js&quot; charset=&quot;utf-8&quot;&gt;&lt;/script&gt;\n",
       "  &lt;/head&gt;\n",
       "  &lt;body&gt;\n",
       " &lt;script&gt;\n",
       "   var embedSpec = {\n",
       "     mode: &quot;vega-lite&quot;,\n",
       "     spec: {&quot;description&quot;:&quot;Country Pop&quot;,&quot;data&quot;:{&quot;values&quot;:[{&quot;country&quot;:&quot;USA&quot;,&quot;population&quot;:&quot;314&quot;},{&quot;country&quot;:&quot;UK&quot;,&quot;population&quot;:&quot;64&quot;},{&quot;country&quot;:&quot;DK&quot;,&quot;population&quot;:&quot;80&quot;}]},&quot;encoding&quot;:{&quot;x&quot;:{&quot;field&quot;:&quot;country&quot;,&quot;type&quot;:&quot;nominal&quot;},&quot;y&quot;:{&quot;field&quot;:&quot;population&quot;,&quot;type&quot;:&quot;quantitative&quot;}},&quot;mark&quot;:&quot;bar&quot;}\n",
       "   }\n",
       "   vg.embed(&quot;#vegas-41f95ea5-ce1f-4746-ab3d-863b11852b1a&quot;, embedSpec, function(error, result) {});\n",
       " &lt;/script&gt;\n",
       " &lt;div id='vegas-41f95ea5-ce1f-4746-ab3d-863b11852b1a'&gt;&lt;/div&gt;\n",
       "    &lt;/body&gt;\n",
       "&lt;/html&gt;\"></iframe>\n",
       "  <script>\n",
       "    if (typeof resizeIFrame != 'function') {\n",
       "      function resizeIFrame(el, k) {\n",
       "        el.style.height = el.contentWindow.document.body.scrollHeight + 'px';\n",
       "        if (k <= 3) { setTimeout(function() { resizeIFrame(el, k+1) }, 1000) };\n",
       "      }\n",
       "    }\n",
       "    $().ready( function() { resizeIFrame($('#frame-vegas-41f95ea5-ce1f-4746-ab3d-863b11852b1a').get(0), 1); });\n",
       "  </script>\n",
       "    "
      ]
     },
     "metadata": {},
     "output_type": "display_data"
    },
    {
     "data": {
      "text/plain": [
       "\u001b[36mchart\u001b[0m: \u001b[32mSpecBuilder\u001b[0m = \u001b[33mSpecBuilder\u001b[0m(\n",
       "  \u001b[33mSpec\u001b[0m(\n",
       "    Some(Country Pop),\n",
       "    Some(Data(Some(WrappedArray(Map(country -> USA, population -> 314), Map(country -> UK, population -> 64), Map(country -> DK, population -> 80))),None,None)),\n",
       "    Some(Bar),\n",
       "    None,\n",
       "    Some(Encoding(Some(ChannelDef(Some(country),Some(Nominal),None,None,None,None)),Some(ChannelDef(Some(population),Some(Quantitative),None,None,None,None)),None,None,None,None)),\n",
       "    None\n",
       "  )\n",
       ")"
      ]
     },
     "metadata": {},
     "output_type": "display_data"
    }
   ],
   "source": [
    "val chart = Vegas(\"Country Pop\").\n",
    "  withData(\n",
    "    Map(\"country\" -> \"USA\", \"population\" -> 314),\n",
    "    Map(\"country\" -> \"UK\", \"population\" -> 64),\n",
    "    Map(\"country\" -> \"DK\", \"population\" -> 80)\n",
    "  ).\n",
    "  encodeX(\"country\", Nominal).\n",
    "  encodeY(\"population\", Quantitative).\n",
    "  mark(Bar)\n",
    "  \n",
    "chart.show"
   ]
  },
  {
   "cell_type": "code",
   "execution_count": null,
   "metadata": {
    "collapsed": true
   },
   "outputs": [],
   "source": []
  }
 ],
 "metadata": {
  "kernelspec": {
   "display_name": "Scala 2.11",
   "language": "scala211",
   "name": "scala211"
  },
  "language_info": {
   "codemirror_mode": "text/x-scala",
   "file_extension": ".scala",
   "mimetype": "text/x-scala",
   "name": "scala211",
   "pygments_lexer": "scala",
   "version": "2.11.6"
  }
 },
 "nbformat": 4,
 "nbformat_minor": 0
}
