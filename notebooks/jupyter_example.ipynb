{
 "cells": [
  {
   "cell_type": "code",
   "execution_count": 1,
   "metadata": {
    "collapsed": false
   },
   "outputs": [
    {
     "name": "stderr",
     "output_type": "stream",
     "text": [
      ":: problems summary ::"
     ]
    },
    {
     "name": "stdout",
     "output_type": "stream",
     "text": [
      ":::: WARNINGS\n"
     ]
    },
    {
     "name": "stderr",
     "output_type": "stream",
     "text": [
      "\n",
      ":::: ERRORS\n",
      "\tunknown resolver chain-resolver\n",
      "\n",
      "\tunknown resolver chain-resolver\n",
      "\n",
      "\tunknown resolver chain-resolver\n",
      "\n"
     ]
    },
    {
     "name": "stdout",
     "output_type": "stream",
     "text": [
      "\tUnable to reparse com.github.alexarchambault.jupyter#jupyter-scala-api_2.11.6;0.2.0-SNAPSHOT from sonatype-snapshots, using Thu Dec 24 06:50:58 PST 2015\n",
      "\n",
      "\tChoosing sonatype-snapshots for com.github.alexarchambault.jupyter#jupyter-scala-api_2.11.6;0.2.0-SNAPSHOT\n",
      "\n",
      "\tUnable to reparse com.github.alexarchambault#ammonite-api_2.11.6;0.3.1-SNAPSHOT from sonatype-snapshots, using Wed Oct 21 02:43:36 PDT 2015\n",
      "\n",
      "\tChoosing sonatype-snapshots for com.github.alexarchambault#ammonite-api_2.11.6;0.3.1-SNAPSHOT\n",
      "\n",
      "\tUnable to reparse com.github.alexarchambault.jupyter#jupyter-api_2.11;0.2.0-SNAPSHOT from sonatype-snapshots, using Wed Oct 21 08:03:52 PDT 2015\n",
      "\n",
      "\tChoosing sonatype-snapshots for com.github.alexarchambault.jupyter#jupyter-api_2.11;0.2.0-SNAPSHOT\n",
      "\n",
      "\tChoosing local for com.github.aishfenton#vegas_2.11;0.3.2-SNAPSHOT\n",
      "\n",
      "\tChoosing local for com.github.aishfenton#vegas-macros_2.11;0.3.2-SNAPSHOT\n",
      "\n"
     ]
    },
    {
     "data": {
      "text/plain": []
     },
     "metadata": {},
     "output_type": "display_data"
    }
   ],
   "source": [
    "load.ivy(\"com.github.aishfenton\" %% \"vegas\" % \"0.3.2-SNAPSHOT\")\n"
   ]
  },
  {
   "cell_type": "code",
   "execution_count": 2,
   "metadata": {
    "collapsed": false
   },
   "outputs": [
    {
     "data": {
      "text/plain": [
       "\u001b[32mimport \u001b[36mvegas._\u001b[0m\n",
       "\u001b[32mimport \u001b[36mvegas.data.External._\u001b[0m\n",
       "\u001b[32mimport \u001b[36mvegas.render.HTMLRenderer._\u001b[0m\n",
       "\u001b[36mdisplayer\u001b[0m: \u001b[32mString\u001b[0m => \u001b[32mUnit\u001b[0m = <function1>"
      ]
     },
     "metadata": {},
     "output_type": "display_data"
    }
   ],
   "source": [
    "import vegas._\n",
    "import vegas.data.External._\n",
    "import vegas.render.HTMLRenderer._\n",
    "implicit val displayer: String => Unit = display.html(_)\n"
   ]
  },
  {
   "cell_type": "markdown",
   "metadata": {},
   "source": [
    "# A simple bar chart with embedded data."
   ]
  },
  {
   "cell_type": "code",
   "execution_count": 3,
   "metadata": {
    "collapsed": false
   },
   "outputs": [
    {
     "data": {
      "text/html": [
       "\n",
       "  <iframe id=\"frame-vegas-8d949a0c-e7ec-41ca-becc-a9408d34b359\" sandbox=\"allow-scripts allow-same-origin\" style=\"border: none; width: 100%\" srcdoc=\"&lt;html&gt;\n",
       "  &lt;head&gt;\n",
       "    &lt;script src=&quot;https:////d3js.org/d3.v3.min.js&quot; charset=&quot;utf-8&quot;&gt;&lt;/script&gt;\n",
       "&lt;script src=&quot;https://vega.github.io/vega/vega.js&quot; charset=&quot;utf-8&quot;&gt;&lt;/script&gt;\n",
       "&lt;script src=&quot;https://vega.github.io/vega-lite/vega-lite.js&quot; charset=&quot;utf-8&quot;&gt;&lt;/script&gt;\n",
       "&lt;script src=&quot;https://vega.github.io/vega-editor/vendor/vega-embed.js&quot; charset=&quot;utf-8&quot;&gt;&lt;/script&gt;\n",
       "  &lt;/head&gt;\n",
       "  &lt;body&gt;\n",
       " &lt;script&gt;\n",
       "   var embedSpec = {\n",
       "     mode: &quot;vega-lite&quot;,\n",
       "     spec: {\n",
       "  &quot;mark&quot; : &quot;bar&quot;,\n",
       "  &quot;encoding&quot; : {\n",
       "    &quot;x&quot; : {\n",
       "      &quot;field&quot; : &quot;a&quot;,\n",
       "      &quot;type&quot; : &quot;ordinal&quot;\n",
       "    },\n",
       "    &quot;y&quot; : {\n",
       "      &quot;field&quot; : &quot;b&quot;,\n",
       "      &quot;type&quot; : &quot;quantitative&quot;\n",
       "    }\n",
       "  },\n",
       "  &quot;description&quot; : &quot;A simple bar chart with embedded data.&quot;,\n",
       "  &quot;data&quot; : {\n",
       "    &quot;values&quot; : [\n",
       "      {\n",
       "        &quot;a&quot; : &quot;A&quot;,\n",
       "        &quot;b&quot; : 28\n",
       "      },\n",
       "      {\n",
       "        &quot;a&quot; : &quot;B&quot;,\n",
       "        &quot;b&quot; : 55\n",
       "      },\n",
       "      {\n",
       "        &quot;a&quot; : &quot;C&quot;,\n",
       "        &quot;b&quot; : 43\n",
       "      },\n",
       "      {\n",
       "        &quot;a&quot; : &quot;D&quot;,\n",
       "        &quot;b&quot; : 91\n",
       "      },\n",
       "      {\n",
       "        &quot;a&quot; : &quot;E&quot;,\n",
       "        &quot;b&quot; : 81\n",
       "      },\n",
       "      {\n",
       "        &quot;a&quot; : &quot;F&quot;,\n",
       "        &quot;b&quot; : 53\n",
       "      },\n",
       "      {\n",
       "        &quot;a&quot; : &quot;G&quot;,\n",
       "        &quot;b&quot; : 19\n",
       "      },\n",
       "      {\n",
       "        &quot;a&quot; : &quot;H&quot;,\n",
       "        &quot;b&quot; : 87\n",
       "      },\n",
       "      {\n",
       "        &quot;a&quot; : &quot;I&quot;,\n",
       "        &quot;b&quot; : 52\n",
       "      }\n",
       "    ]\n",
       "  }\n",
       "}\n",
       "   }\n",
       "   vg.embed(&quot;#vegas-8d949a0c-e7ec-41ca-becc-a9408d34b359&quot;, embedSpec, function(error, result) {});\n",
       " &lt;/script&gt;\n",
       " &lt;div id='vegas-8d949a0c-e7ec-41ca-becc-a9408d34b359'&gt;&lt;/div&gt;\n",
       "    &lt;/body&gt;\n",
       "&lt;/html&gt;\"></iframe>\n",
       "  <script>\n",
       "    if (typeof resizeIFrame != 'function') {\n",
       "      function resizeIFrame(el, k) {\n",
       "        el.style.height = el.contentWindow.document.body.scrollHeight + 'px';\n",
       "        if (k <= 7) { setTimeout(function() { resizeIFrame(el, k+1) }, 1000) };\n",
       "      }\n",
       "    }\n",
       "    $().ready( function() { resizeIFrame($('#frame-vegas-8d949a0c-e7ec-41ca-becc-a9408d34b359').get(0), 1); });\n",
       "  </script>\n",
       "    "
      ]
     },
     "metadata": {},
     "output_type": "display_data"
    },
    {
     "data": {
      "text/plain": []
     },
     "metadata": {},
     "output_type": "display_data"
    }
   ],
   "source": [
    "Vegas(\"A simple bar chart with embedded data.\").\n",
    "  withData(Seq(\n",
    "    Map(\"a\" -> \"A\", \"b\" -> 28), Map(\"a\" -> \"B\", \"b\" -> 55), Map(\"a\" -> \"C\", \"b\" -> 43),\n",
    "    Map(\"a\" -> \"D\", \"b\" -> 91), Map(\"a\" -> \"E\", \"b\" -> 81), Map(\"a\" -> \"F\", \"b\" -> 53),\n",
    "    Map(\"a\" -> \"G\", \"b\" -> 19), Map(\"a\" -> \"H\", \"b\" -> 87), Map(\"a\" -> \"I\", \"b\" -> 52)\n",
    "  )).\n",
    "  encodeX(\"a\", Ordinal).\n",
    "  encodeY(\"b\", Quantitative).\n",
    "  mark(Bar).\n",
    "  show\n"
   ]
  },
  {
   "cell_type": "markdown",
   "metadata": {},
   "source": [
    "# A bar chart showing the US population distribution of age groups in 2000."
   ]
  },
  {
   "cell_type": "code",
   "execution_count": 4,
   "metadata": {
    "collapsed": false
   },
   "outputs": [
    {
     "data": {
      "text/html": [
       "\n",
       "  <iframe id=\"frame-vegas-5f211bdf-5b2a-4f2e-ba8c-38293d70f08c\" sandbox=\"allow-scripts allow-same-origin\" style=\"border: none; width: 100%\" srcdoc=\"&lt;html&gt;\n",
       "  &lt;head&gt;\n",
       "    &lt;script src=&quot;https:////d3js.org/d3.v3.min.js&quot; charset=&quot;utf-8&quot;&gt;&lt;/script&gt;\n",
       "&lt;script src=&quot;https://vega.github.io/vega/vega.js&quot; charset=&quot;utf-8&quot;&gt;&lt;/script&gt;\n",
       "&lt;script src=&quot;https://vega.github.io/vega-lite/vega-lite.js&quot; charset=&quot;utf-8&quot;&gt;&lt;/script&gt;\n",
       "&lt;script src=&quot;https://vega.github.io/vega-editor/vendor/vega-embed.js&quot; charset=&quot;utf-8&quot;&gt;&lt;/script&gt;\n",
       "  &lt;/head&gt;\n",
       "  &lt;body&gt;\n",
       " &lt;script&gt;\n",
       "   var embedSpec = {\n",
       "     mode: &quot;vega-lite&quot;,\n",
       "     spec: {\n",
       "  &quot;mark&quot; : &quot;bar&quot;,\n",
       "  &quot;encoding&quot; : {\n",
       "    &quot;x&quot; : {\n",
       "      &quot;axis&quot; : {\n",
       "        &quot;title&quot; : &quot;population&quot;\n",
       "      },\n",
       "      &quot;field&quot; : &quot;people&quot;,\n",
       "      &quot;type&quot; : &quot;quantitative&quot;,\n",
       "      &quot;aggregate&quot; : &quot;sum&quot;\n",
       "    },\n",
       "    &quot;y&quot; : {\n",
       "      &quot;scale&quot; : {\n",
       "        &quot;bandSize&quot; : 17.0\n",
       "      },\n",
       "      &quot;field&quot; : &quot;age&quot;,\n",
       "      &quot;type&quot; : &quot;ordinal&quot;\n",
       "    }\n",
       "  },\n",
       "  &quot;description&quot; : &quot;A bar chart showing the US population distribution of age groups in 2000.&quot;,\n",
       "  &quot;data&quot; : {\n",
       "    &quot;url&quot; : &quot;https://vega.github.io/vega-editor/app/data/population.json&quot;\n",
       "  },\n",
       "  &quot;transform&quot; : {\n",
       "    &quot;filter&quot; : &quot;datum.year == 2000&quot;\n",
       "  }\n",
       "}\n",
       "   }\n",
       "   vg.embed(&quot;#vegas-5f211bdf-5b2a-4f2e-ba8c-38293d70f08c&quot;, embedSpec, function(error, result) {});\n",
       " &lt;/script&gt;\n",
       " &lt;div id='vegas-5f211bdf-5b2a-4f2e-ba8c-38293d70f08c'&gt;&lt;/div&gt;\n",
       "    &lt;/body&gt;\n",
       "&lt;/html&gt;\"></iframe>\n",
       "  <script>\n",
       "    if (typeof resizeIFrame != 'function') {\n",
       "      function resizeIFrame(el, k) {\n",
       "        el.style.height = el.contentWindow.document.body.scrollHeight + 'px';\n",
       "        if (k <= 7) { setTimeout(function() { resizeIFrame(el, k+1) }, 1000) };\n",
       "      }\n",
       "    }\n",
       "    $().ready( function() { resizeIFrame($('#frame-vegas-5f211bdf-5b2a-4f2e-ba8c-38293d70f08c').get(0), 1); });\n",
       "  </script>\n",
       "    "
      ]
     },
     "metadata": {},
     "output_type": "display_data"
    },
    {
     "data": {
      "text/plain": []
     },
     "metadata": {},
     "output_type": "display_data"
    }
   ],
   "source": [
    "Vegas(\"A bar chart showing the US population distribution of age groups in 2000.\").\n",
    "  withURL(Population).\n",
    "  mark(Bar).\n",
    "  transformFilter(\"datum.year == 2000\").\n",
    "  encodeY(\"age\", Ordinal, scale=Scale(bandSize=17)).\n",
    "  encodeX(\"people\", Quantitative, aggregate=AggOps.Sum, axis=Axis(title=\"population\")).\n",
    "  show\n"
   ]
  },
  {
   "cell_type": "code",
   "execution_count": 5,
   "metadata": {
    "collapsed": false
   },
   "outputs": [
    {
     "data": {
      "text/html": [
       "\n",
       "  <iframe id=\"frame-vegas-81b78217-3211-4b59-9cbf-8f103161bbbe\" sandbox=\"allow-scripts allow-same-origin\" style=\"border: none; width: 100%\" srcdoc=\"&lt;html&gt;\n",
       "  &lt;head&gt;\n",
       "    &lt;script src=&quot;https:////d3js.org/d3.v3.min.js&quot; charset=&quot;utf-8&quot;&gt;&lt;/script&gt;\n",
       "&lt;script src=&quot;https://vega.github.io/vega/vega.js&quot; charset=&quot;utf-8&quot;&gt;&lt;/script&gt;\n",
       "&lt;script src=&quot;https://vega.github.io/vega-lite/vega-lite.js&quot; charset=&quot;utf-8&quot;&gt;&lt;/script&gt;\n",
       "&lt;script src=&quot;https://vega.github.io/vega-editor/vendor/vega-embed.js&quot; charset=&quot;utf-8&quot;&gt;&lt;/script&gt;\n",
       "  &lt;/head&gt;\n",
       "  &lt;body&gt;\n",
       " &lt;script&gt;\n",
       "   var embedSpec = {\n",
       "     mode: &quot;vega-lite&quot;,\n",
       "     spec: {\n",
       "  &quot;mark&quot; : &quot;bar&quot;,\n",
       "  &quot;encoding&quot; : {\n",
       "    &quot;column&quot; : {\n",
       "      &quot;axis&quot; : {\n",
       "        &quot;orient&quot; : &quot;bottom&quot;,\n",
       "        &quot;axisWidth&quot; : 1.0,\n",
       "        &quot;offset&quot; : -8.0\n",
       "      },\n",
       "      &quot;scale&quot; : {\n",
       "        &quot;padding&quot; : 4.0\n",
       "      },\n",
       "      &quot;field&quot; : &quot;age&quot;,\n",
       "      &quot;type&quot; : &quot;ordinal&quot;\n",
       "    },\n",
       "    &quot;x&quot; : {\n",
       "      &quot;axis&quot; : false,\n",
       "      &quot;scale&quot; : {\n",
       "        &quot;bandSize&quot; : 6.0\n",
       "      },\n",
       "      &quot;field&quot; : &quot;gender&quot;,\n",
       "      &quot;type&quot; : &quot;nominal&quot;\n",
       "    },\n",
       "    &quot;y&quot; : {\n",
       "      &quot;axis&quot; : {\n",
       "        &quot;title&quot; : &quot;population&quot;,\n",
       "        &quot;grid&quot; : false\n",
       "      },\n",
       "      &quot;field&quot; : &quot;people&quot;,\n",
       "      &quot;type&quot; : &quot;quantitative&quot;,\n",
       "      &quot;aggregate&quot; : &quot;sum&quot;\n",
       "    },\n",
       "    &quot;color&quot; : {\n",
       "      &quot;scale&quot; : {\n",
       "        &quot;range&quot; : [\n",
       "          &quot;#EA98D2&quot;,\n",
       "          &quot;#659CCA&quot;\n",
       "        ]\n",
       "      },\n",
       "      &quot;field&quot; : &quot;gender&quot;,\n",
       "      &quot;type&quot; : &quot;nominal&quot;\n",
       "    }\n",
       "  },\n",
       "  &quot;data&quot; : {\n",
       "    &quot;url&quot; : &quot;https://vega.github.io/vega-editor/app/data/population.json&quot;\n",
       "  },\n",
       "  &quot;transform&quot; : {\n",
       "    &quot;filter&quot; : &quot;datum.year == 2000&quot;,\n",
       "    &quot;calculate&quot; : [\n",
       "      {\n",
       "        &quot;field&quot; : &quot;gender&quot;,\n",
       "        &quot;expr&quot; : &quot;datum.sex == 2 ? \\&quot;Female\\&quot; : \\&quot;Male\\&quot;&quot;\n",
       "      }\n",
       "    ]\n",
       "  },\n",
       "  &quot;config&quot; : {\n",
       "    &quot;facet&quot; : {\n",
       "      &quot;cell&quot; : {\n",
       "        &quot;strokeWidth&quot; : 0.0\n",
       "      }\n",
       "    }\n",
       "  }\n",
       "}\n",
       "   }\n",
       "   vg.embed(&quot;#vegas-81b78217-3211-4b59-9cbf-8f103161bbbe&quot;, embedSpec, function(error, result) {});\n",
       " &lt;/script&gt;\n",
       " &lt;div id='vegas-81b78217-3211-4b59-9cbf-8f103161bbbe'&gt;&lt;/div&gt;\n",
       "    &lt;/body&gt;\n",
       "&lt;/html&gt;\"></iframe>\n",
       "  <script>\n",
       "    if (typeof resizeIFrame != 'function') {\n",
       "      function resizeIFrame(el, k) {\n",
       "        el.style.height = el.contentWindow.document.body.scrollHeight + 'px';\n",
       "        if (k <= 7) { setTimeout(function() { resizeIFrame(el, k+1) }, 1000) };\n",
       "      }\n",
       "    }\n",
       "    $().ready( function() { resizeIFrame($('#frame-vegas-81b78217-3211-4b59-9cbf-8f103161bbbe').get(0), 1); });\n",
       "  </script>\n",
       "    "
      ]
     },
     "metadata": {},
     "output_type": "display_data"
    },
    {
     "data": {
      "text/plain": []
     },
     "metadata": {},
     "output_type": "display_data"
    }
   ],
   "source": [
    "Vegas().\n",
    "  withURL(Population).\n",
    "  mark(Bar).\n",
    "  addTransformCalculation(\"gender\", \"\"\"datum.sex == 2 ? \"Female\" : \"Male\"\"\"\").\n",
    "  transformFilter(\"datum.year == 2000\").\n",
    "  encodeColumn(\"age\", Ord, scale=Scale(padding=4.0), axis=Axis(orient=Orient.Bottom, axisWidth=1.0, offset= -8.0)).\n",
    "  encodeY(\"people\", Quantitative, aggregate=AggOps.Sum, axis=Axis(title=\"population\", grid=false)).\n",
    "  encodeX(\"gender\", Nominal, scale=Scale(bandSize = 6.0), hideAxis=true).\n",
    "  encodeColor(\"gender\", Nominal, scale=Scale(rangeNominals=List(\"#EA98D2\", \"#659CCA\"))).\n",
    "  configFacet(cell=CellConfig(strokeWidth = 0)).\n",
    "  show\n"
   ]
  },
  {
   "cell_type": "code",
   "execution_count": 6,
   "metadata": {
    "collapsed": false
   },
   "outputs": [
    {
     "data": {
      "text/html": [
       "\n",
       "  <iframe id=\"frame-vegas-4fcf22e2-3c6a-4097-bc42-4f3b8e5ab756\" sandbox=\"allow-scripts allow-same-origin\" style=\"border: none; width: 100%\" srcdoc=\"&lt;html&gt;\n",
       "  &lt;head&gt;\n",
       "    &lt;script src=&quot;https:////d3js.org/d3.v3.min.js&quot; charset=&quot;utf-8&quot;&gt;&lt;/script&gt;\n",
       "&lt;script src=&quot;https://vega.github.io/vega/vega.js&quot; charset=&quot;utf-8&quot;&gt;&lt;/script&gt;\n",
       "&lt;script src=&quot;https://vega.github.io/vega-lite/vega-lite.js&quot; charset=&quot;utf-8&quot;&gt;&lt;/script&gt;\n",
       "&lt;script src=&quot;https://vega.github.io/vega-editor/vendor/vega-embed.js&quot; charset=&quot;utf-8&quot;&gt;&lt;/script&gt;\n",
       "  &lt;/head&gt;\n",
       "  &lt;body&gt;\n",
       " &lt;script&gt;\n",
       "   var embedSpec = {\n",
       "     mode: &quot;vega-lite&quot;,\n",
       "     spec: {\n",
       "  &quot;mark&quot; : &quot;area&quot;,\n",
       "  &quot;encoding&quot; : {\n",
       "    &quot;x&quot; : {\n",
       "      &quot;axis&quot; : {\n",
       "        &quot;labelAngle&quot; : 0.0,\n",
       "        &quot;format&quot; : &quot;%Y&quot;,\n",
       "        &quot;axisWidth&quot; : 0.0\n",
       "      },\n",
       "      &quot;scale&quot; : {\n",
       "        &quot;nice&quot; : &quot;month&quot;\n",
       "      },\n",
       "      &quot;field&quot; : &quot;date&quot;,\n",
       "      &quot;type&quot; : &quot;temporal&quot;,\n",
       "      &quot;timeUnit&quot; : &quot;yearmonth&quot;\n",
       "    },\n",
       "    &quot;y&quot; : {\n",
       "      &quot;field&quot; : &quot;count&quot;,\n",
       "      &quot;type&quot; : &quot;quantitative&quot;,\n",
       "      &quot;aggregate&quot; : &quot;sum&quot;\n",
       "    }\n",
       "  },\n",
       "  &quot;data&quot; : {\n",
       "    &quot;url&quot; : &quot;https://vega.github.io/vega-editor/app/data/unemployment-across-industries.json&quot;\n",
       "  },\n",
       "  &quot;config&quot; : {\n",
       "    &quot;cell&quot; : {\n",
       "      &quot;width&quot; : 300.0,\n",
       "      &quot;height&quot; : 200.0\n",
       "    }\n",
       "  }\n",
       "}\n",
       "   }\n",
       "   vg.embed(&quot;#vegas-4fcf22e2-3c6a-4097-bc42-4f3b8e5ab756&quot;, embedSpec, function(error, result) {});\n",
       " &lt;/script&gt;\n",
       " &lt;div id='vegas-4fcf22e2-3c6a-4097-bc42-4f3b8e5ab756'&gt;&lt;/div&gt;\n",
       "    &lt;/body&gt;\n",
       "&lt;/html&gt;\"></iframe>\n",
       "  <script>\n",
       "    if (typeof resizeIFrame != 'function') {\n",
       "      function resizeIFrame(el, k) {\n",
       "        el.style.height = el.contentWindow.document.body.scrollHeight + 'px';\n",
       "        if (k <= 7) { setTimeout(function() { resizeIFrame(el, k+1) }, 1000) };\n",
       "      }\n",
       "    }\n",
       "    $().ready( function() { resizeIFrame($('#frame-vegas-4fcf22e2-3c6a-4097-bc42-4f3b8e5ab756').get(0), 1); });\n",
       "  </script>\n",
       "    "
      ]
     },
     "metadata": {},
     "output_type": "display_data"
    },
    {
     "data": {
      "text/plain": []
     },
     "metadata": {},
     "output_type": "display_data"
    }
   ],
   "source": [
    "Vegas().\n",
    "  withURL(Unemployment).\n",
    "  mark(Area).\n",
    "  encodeX(\"date\", Temp, timeUnit=TimeUnit.Yearmonth, scale=Scale(nice=Nice.Month),\n",
    "    axis=Axis(axisWidth=0, format=\"%Y\", labelAngle=0)).\n",
    "  encodeY(\"count\", Quantitative, aggregate=AggOps.Sum).\n",
    "  configCell(width=300, height=200).\n",
    "  show\n"
   ]
  },
  {
   "cell_type": "code",
   "execution_count": 7,
   "metadata": {
    "collapsed": false
   },
   "outputs": [
    {
     "data": {
      "text/html": [
       "\n",
       "  <iframe id=\"frame-vegas-ee274d43-472e-4619-912f-5253a95f43e7\" sandbox=\"allow-scripts allow-same-origin\" style=\"border: none; width: 100%\" srcdoc=\"&lt;html&gt;\n",
       "  &lt;head&gt;\n",
       "    &lt;script src=&quot;https:////d3js.org/d3.v3.min.js&quot; charset=&quot;utf-8&quot;&gt;&lt;/script&gt;\n",
       "&lt;script src=&quot;https://vega.github.io/vega/vega.js&quot; charset=&quot;utf-8&quot;&gt;&lt;/script&gt;\n",
       "&lt;script src=&quot;https://vega.github.io/vega-lite/vega-lite.js&quot; charset=&quot;utf-8&quot;&gt;&lt;/script&gt;\n",
       "&lt;script src=&quot;https://vega.github.io/vega-editor/vendor/vega-embed.js&quot; charset=&quot;utf-8&quot;&gt;&lt;/script&gt;\n",
       "  &lt;/head&gt;\n",
       "  &lt;body&gt;\n",
       " &lt;script&gt;\n",
       "   var embedSpec = {\n",
       "     mode: &quot;vega-lite&quot;,\n",
       "     spec: {\n",
       "  &quot;mark&quot; : &quot;bar&quot;,\n",
       "  &quot;encoding&quot; : {\n",
       "    &quot;x&quot; : {\n",
       "      &quot;scale&quot; : {\n",
       "        &quot;bandSize&quot; : 17.0\n",
       "      },\n",
       "      &quot;field&quot; : &quot;age&quot;,\n",
       "      &quot;type&quot; : &quot;ordinal&quot;\n",
       "    },\n",
       "    &quot;y&quot; : {\n",
       "      &quot;axis&quot; : {\n",
       "        &quot;title&quot; : &quot;population&quot;\n",
       "      },\n",
       "      &quot;field&quot; : &quot;people&quot;,\n",
       "      &quot;type&quot; : &quot;quantitative&quot;,\n",
       "      &quot;aggregate&quot; : &quot;sum&quot;\n",
       "    },\n",
       "    &quot;color&quot; : {\n",
       "      &quot;scale&quot; : {\n",
       "        &quot;range&quot; : [\n",
       "          &quot;#EA98D2&quot;,\n",
       "          &quot;#659CCA&quot;\n",
       "        ]\n",
       "      },\n",
       "      &quot;field&quot; : &quot;gender&quot;,\n",
       "      &quot;type&quot; : &quot;nominal&quot;\n",
       "    }\n",
       "  },\n",
       "  &quot;data&quot; : {\n",
       "    &quot;url&quot; : &quot;https://vega.github.io/vega-editor/app/data/population.json&quot;\n",
       "  },\n",
       "  &quot;transform&quot; : {\n",
       "    &quot;filter&quot; : &quot;datum.year == 2000&quot;,\n",
       "    &quot;calculate&quot; : [\n",
       "      {\n",
       "        &quot;field&quot; : &quot;gender&quot;,\n",
       "        &quot;expr&quot; : &quot;datum.sex == 2 ? \\&quot;Female\\&quot; : \\&quot;Male\\&quot;&quot;\n",
       "      }\n",
       "    ]\n",
       "  },\n",
       "  &quot;config&quot; : {\n",
       "    &quot;mark&quot; : {\n",
       "      &quot;stacked&quot; : &quot;normalize&quot;\n",
       "    }\n",
       "  }\n",
       "}\n",
       "   }\n",
       "   vg.embed(&quot;#vegas-ee274d43-472e-4619-912f-5253a95f43e7&quot;, embedSpec, function(error, result) {});\n",
       " &lt;/script&gt;\n",
       " &lt;div id='vegas-ee274d43-472e-4619-912f-5253a95f43e7'&gt;&lt;/div&gt;\n",
       "    &lt;/body&gt;\n",
       "&lt;/html&gt;\"></iframe>\n",
       "  <script>\n",
       "    if (typeof resizeIFrame != 'function') {\n",
       "      function resizeIFrame(el, k) {\n",
       "        el.style.height = el.contentWindow.document.body.scrollHeight + 'px';\n",
       "        if (k <= 7) { setTimeout(function() { resizeIFrame(el, k+1) }, 1000) };\n",
       "      }\n",
       "    }\n",
       "    $().ready( function() { resizeIFrame($('#frame-vegas-ee274d43-472e-4619-912f-5253a95f43e7').get(0), 1); });\n",
       "  </script>\n",
       "    "
      ]
     },
     "metadata": {},
     "output_type": "display_data"
    },
    {
     "data": {
      "text/plain": []
     },
     "metadata": {},
     "output_type": "display_data"
    }
   ],
   "source": [
    "Vegas().\n",
    "  withURL(Population).\n",
    "  transformFilter(\"datum.year == 2000\").\n",
    "  addTransformCalculation(\"gender\", \"datum.sex == 2 ? \\\"Female\\\" : \\\"Male\\\"\").\n",
    "  mark(Bar).\n",
    "  encodeY(\"people\", Quant, AggOps.Sum, axis=Axis(title=\"population\")).\n",
    "  encodeX(\"age\", Ord, scale=Scale(bandSize= 17)).\n",
    "  encodeColor(\"gender\", Nominal, scale=Scale(rangeNominals=List(\"#EA98D2\", \"#659CCA\"))).\n",
    "  configMark(stacked=StackOffset.Normalize).\n",
    "  show\n"
   ]
  },
  {
   "cell_type": "markdown",
   "metadata": {},
   "source": [
    "# A trellis scatterplot showing Horsepower and Miles per gallons, faceted by binned values of Acceleration."
   ]
  },
  {
   "cell_type": "code",
   "execution_count": 8,
   "metadata": {
    "collapsed": false
   },
   "outputs": [
    {
     "data": {
      "text/html": [
       "\n",
       "  <iframe id=\"frame-vegas-1a60ca27-141b-4d9f-a0e2-64b3cfe386d7\" sandbox=\"allow-scripts allow-same-origin\" style=\"border: none; width: 100%\" srcdoc=\"&lt;html&gt;\n",
       "  &lt;head&gt;\n",
       "    &lt;script src=&quot;https:////d3js.org/d3.v3.min.js&quot; charset=&quot;utf-8&quot;&gt;&lt;/script&gt;\n",
       "&lt;script src=&quot;https://vega.github.io/vega/vega.js&quot; charset=&quot;utf-8&quot;&gt;&lt;/script&gt;\n",
       "&lt;script src=&quot;https://vega.github.io/vega-lite/vega-lite.js&quot; charset=&quot;utf-8&quot;&gt;&lt;/script&gt;\n",
       "&lt;script src=&quot;https://vega.github.io/vega-editor/vendor/vega-embed.js&quot; charset=&quot;utf-8&quot;&gt;&lt;/script&gt;\n",
       "  &lt;/head&gt;\n",
       "  &lt;body&gt;\n",
       " &lt;script&gt;\n",
       "   var embedSpec = {\n",
       "     mode: &quot;vega-lite&quot;,\n",
       "     spec: {\n",
       "  &quot;mark&quot; : &quot;point&quot;,\n",
       "  &quot;encoding&quot; : {\n",
       "    &quot;row&quot; : {\n",
       "      &quot;field&quot; : &quot;Acceleration&quot;,\n",
       "      &quot;type&quot; : &quot;quantitative&quot;,\n",
       "      &quot;bin&quot; : true\n",
       "    },\n",
       "    &quot;x&quot; : {\n",
       "      &quot;field&quot; : &quot;Horsepower&quot;,\n",
       "      &quot;type&quot; : &quot;quantitative&quot;\n",
       "    },\n",
       "    &quot;y&quot; : {\n",
       "      &quot;field&quot; : &quot;Miles_per_Gallon&quot;,\n",
       "      &quot;type&quot; : &quot;quantitative&quot;\n",
       "    }\n",
       "  },\n",
       "  &quot;description&quot; : &quot;A trellis scatterplot showing Horsepower and Miles per gallons, faceted by binned values of Acceleration.&quot;,\n",
       "  &quot;data&quot; : {\n",
       "    &quot;url&quot; : &quot;https://vega.github.io/vega-editor/app/data/cars.json&quot;\n",
       "  }\n",
       "}\n",
       "   }\n",
       "   vg.embed(&quot;#vegas-1a60ca27-141b-4d9f-a0e2-64b3cfe386d7&quot;, embedSpec, function(error, result) {});\n",
       " &lt;/script&gt;\n",
       " &lt;div id='vegas-1a60ca27-141b-4d9f-a0e2-64b3cfe386d7'&gt;&lt;/div&gt;\n",
       "    &lt;/body&gt;\n",
       "&lt;/html&gt;\"></iframe>\n",
       "  <script>\n",
       "    if (typeof resizeIFrame != 'function') {\n",
       "      function resizeIFrame(el, k) {\n",
       "        el.style.height = el.contentWindow.document.body.scrollHeight + 'px';\n",
       "        if (k <= 7) { setTimeout(function() { resizeIFrame(el, k+1) }, 1000) };\n",
       "      }\n",
       "    }\n",
       "    $().ready( function() { resizeIFrame($('#frame-vegas-1a60ca27-141b-4d9f-a0e2-64b3cfe386d7').get(0), 1); });\n",
       "  </script>\n",
       "    "
      ]
     },
     "metadata": {},
     "output_type": "display_data"
    },
    {
     "data": {
      "text/plain": []
     },
     "metadata": {},
     "output_type": "display_data"
    }
   ],
   "source": [
    "Vegas(\"A trellis scatterplot showing Horsepower and Miles per gallons, faceted by binned values of Acceleration.\").\n",
    "  withURL(Cars).\n",
    "  mark(Point).\n",
    "  encodeX(\"Horsepower\", Quantitative).\n",
    "  encodeY(\"Miles_per_Gallon\", Quantitative).\n",
    "  encodeRow(\"Acceleration\", Quantitative, enableBin=true).\n",
    "  show\n"
   ]
  },
  {
   "cell_type": "code",
   "execution_count": 21,
   "metadata": {
    "collapsed": false
   },
   "outputs": [
    {
     "data": {
      "text/html": [
       "\n",
       "  <iframe id=\"frame-vegas-b448eaac-3084-458d-a812-d06c7b9855c5\" sandbox=\"allow-scripts allow-same-origin\" style=\"border: none; width: 100%\" srcdoc=\"&lt;html&gt;\n",
       "  &lt;head&gt;\n",
       "    &lt;script src=&quot;https:////d3js.org/d3.v3.min.js&quot; charset=&quot;utf-8&quot;&gt;&lt;/script&gt;\n",
       "&lt;script src=&quot;https://vega.github.io/vega/vega.js&quot; charset=&quot;utf-8&quot;&gt;&lt;/script&gt;\n",
       "&lt;script src=&quot;https://vega.github.io/vega-lite/vega-lite.js&quot; charset=&quot;utf-8&quot;&gt;&lt;/script&gt;\n",
       "&lt;script src=&quot;https://vega.github.io/vega-editor/vendor/vega-embed.js&quot; charset=&quot;utf-8&quot;&gt;&lt;/script&gt;\n",
       "  &lt;/head&gt;\n",
       "  &lt;body&gt;\n",
       " &lt;script&gt;\n",
       "   var embedSpec = {\n",
       "     mode: &quot;vega-lite&quot;,\n",
       "     spec: {\n",
       "  &quot;mark&quot; : &quot;point&quot;,\n",
       "  &quot;encoding&quot; : {\n",
       "    &quot;x&quot; : {\n",
       "      &quot;field&quot; : &quot;IMDB_Rating&quot;,\n",
       "      &quot;type&quot; : &quot;quantitative&quot;,\n",
       "      &quot;bin&quot; : {\n",
       "        &quot;maxbins&quot; : 10.0\n",
       "      }\n",
       "    },\n",
       "    &quot;y&quot; : {\n",
       "      &quot;field&quot; : &quot;Rotten_Tomatoes_Rating&quot;,\n",
       "      &quot;type&quot; : &quot;quantitative&quot;,\n",
       "      &quot;bin&quot; : {\n",
       "        &quot;maxbins&quot; : 10.0\n",
       "      }\n",
       "    },\n",
       "    &quot;size&quot; : {\n",
       "      &quot;field&quot; : &quot;*&quot;,\n",
       "      &quot;type&quot; : &quot;quantitative&quot;,\n",
       "      &quot;aggregate&quot; : &quot;count&quot;\n",
       "    }\n",
       "  },\n",
       "  &quot;data&quot; : {\n",
       "    &quot;url&quot; : &quot;https://vega.github.io/vega-editor/app/data/movies.json&quot;\n",
       "  }\n",
       "}\n",
       "   }\n",
       "   vg.embed(&quot;#vegas-b448eaac-3084-458d-a812-d06c7b9855c5&quot;, embedSpec, function(error, result) {});\n",
       " &lt;/script&gt;\n",
       " &lt;div id='vegas-b448eaac-3084-458d-a812-d06c7b9855c5'&gt;&lt;/div&gt;\n",
       "    &lt;/body&gt;\n",
       "&lt;/html&gt;\"></iframe>\n",
       "  <script>\n",
       "    if (typeof resizeIFrame != 'function') {\n",
       "      function resizeIFrame(el, k) {\n",
       "        el.style.height = el.contentWindow.document.body.scrollHeight + 'px';\n",
       "        if (k <= 7) { setTimeout(function() { resizeIFrame(el, k+1) }, 1000) };\n",
       "      }\n",
       "    }\n",
       "    $().ready( function() { resizeIFrame($('#frame-vegas-b448eaac-3084-458d-a812-d06c7b9855c5').get(0), 1); });\n",
       "  </script>\n",
       "    "
      ]
     },
     "metadata": {},
     "output_type": "display_data"
    },
    {
     "data": {
      "text/plain": []
     },
     "metadata": {},
     "output_type": "display_data"
    }
   ],
   "source": [
    "Vegas().\n",
    "  withURL(Movies).\n",
    "  mark(Point).\n",
    "  encodeX(\"IMDB_Rating\", Quantitative, bin=Bin(maxbins=10.0)).\n",
    "  encodeY(\"Rotten_Tomatoes_Rating\", Quantitative, bin=Bin(maxbins=10.0)).\n",
    "  encodeSize(aggregate=AggOps.Count, field=\"*\", dataType=Quantitative).\n",
    "  show\n"
   ]
  },
  {
   "cell_type": "code",
   "execution_count": 22,
   "metadata": {
    "collapsed": false
   },
   "outputs": [
    {
     "data": {
      "text/html": [
       "\n",
       "  <iframe id=\"frame-vegas-93636b72-bcbf-493d-aa7b-16e70d934ae0\" sandbox=\"allow-scripts allow-same-origin\" style=\"border: none; width: 100%\" srcdoc=\"&lt;html&gt;\n",
       "  &lt;head&gt;\n",
       "    &lt;script src=&quot;https:////d3js.org/d3.v3.min.js&quot; charset=&quot;utf-8&quot;&gt;&lt;/script&gt;\n",
       "&lt;script src=&quot;https://vega.github.io/vega/vega.js&quot; charset=&quot;utf-8&quot;&gt;&lt;/script&gt;\n",
       "&lt;script src=&quot;https://vega.github.io/vega-lite/vega-lite.js&quot; charset=&quot;utf-8&quot;&gt;&lt;/script&gt;\n",
       "&lt;script src=&quot;https://vega.github.io/vega-editor/vendor/vega-embed.js&quot; charset=&quot;utf-8&quot;&gt;&lt;/script&gt;\n",
       "  &lt;/head&gt;\n",
       "  &lt;body&gt;\n",
       " &lt;script&gt;\n",
       "   var embedSpec = {\n",
       "     mode: &quot;vega-lite&quot;,\n",
       "     spec: {\n",
       "  &quot;mark&quot; : &quot;point&quot;,\n",
       "  &quot;encoding&quot; : {\n",
       "    &quot;x&quot; : {\n",
       "      &quot;field&quot; : &quot;Horsepower&quot;,\n",
       "      &quot;type&quot; : &quot;quantitative&quot;\n",
       "    },\n",
       "    &quot;y&quot; : {\n",
       "      &quot;field&quot; : &quot;Miles_per_Gallon&quot;,\n",
       "      &quot;type&quot; : &quot;quantitative&quot;\n",
       "    },\n",
       "    &quot;color&quot; : {\n",
       "      &quot;field&quot; : &quot;Origin&quot;,\n",
       "      &quot;type&quot; : &quot;nominal&quot;\n",
       "    }\n",
       "  },\n",
       "  &quot;data&quot; : {\n",
       "    &quot;url&quot; : &quot;https://vega.github.io/vega-editor/app/data/cars.json&quot;\n",
       "  }\n",
       "}\n",
       "   }\n",
       "   vg.embed(&quot;#vegas-93636b72-bcbf-493d-aa7b-16e70d934ae0&quot;, embedSpec, function(error, result) {});\n",
       " &lt;/script&gt;\n",
       " &lt;div id='vegas-93636b72-bcbf-493d-aa7b-16e70d934ae0'&gt;&lt;/div&gt;\n",
       "    &lt;/body&gt;\n",
       "&lt;/html&gt;\"></iframe>\n",
       "  <script>\n",
       "    if (typeof resizeIFrame != 'function') {\n",
       "      function resizeIFrame(el, k) {\n",
       "        el.style.height = el.contentWindow.document.body.scrollHeight + 'px';\n",
       "        if (k <= 7) { setTimeout(function() { resizeIFrame(el, k+1) }, 1000) };\n",
       "      }\n",
       "    }\n",
       "    $().ready( function() { resizeIFrame($('#frame-vegas-93636b72-bcbf-493d-aa7b-16e70d934ae0').get(0), 1); });\n",
       "  </script>\n",
       "    "
      ]
     },
     "metadata": {},
     "output_type": "display_data"
    },
    {
     "data": {
      "text/plain": []
     },
     "metadata": {},
     "output_type": "display_data"
    }
   ],
   "source": [
    "Vegas().\n",
    "  withURL(Cars).\n",
    "  mark(Point).\n",
    "  encodeX(\"Horsepower\", Quantitative).\n",
    "  encodeY(\"Miles_per_Gallon\", Quantitative).\n",
    "  encodeColor(field=\"Origin\", dataType=Nominal).\n",
    "  show\n"
   ]
  },
  {
   "cell_type": "markdown",
   "metadata": {},
   "source": [
    "# A scatterplot showing horsepower and miles per gallons with binned acceleration on color."
   ]
  },
  {
   "cell_type": "code",
   "execution_count": 23,
   "metadata": {
    "collapsed": false
   },
   "outputs": [
    {
     "data": {
      "text/html": [
       "\n",
       "  <iframe id=\"frame-vegas-11df264f-bea7-4436-a97f-20dd0c4ad5ae\" sandbox=\"allow-scripts allow-same-origin\" style=\"border: none; width: 100%\" srcdoc=\"&lt;html&gt;\n",
       "  &lt;head&gt;\n",
       "    &lt;script src=&quot;https:////d3js.org/d3.v3.min.js&quot; charset=&quot;utf-8&quot;&gt;&lt;/script&gt;\n",
       "&lt;script src=&quot;https://vega.github.io/vega/vega.js&quot; charset=&quot;utf-8&quot;&gt;&lt;/script&gt;\n",
       "&lt;script src=&quot;https://vega.github.io/vega-lite/vega-lite.js&quot; charset=&quot;utf-8&quot;&gt;&lt;/script&gt;\n",
       "&lt;script src=&quot;https://vega.github.io/vega-editor/vendor/vega-embed.js&quot; charset=&quot;utf-8&quot;&gt;&lt;/script&gt;\n",
       "  &lt;/head&gt;\n",
       "  &lt;body&gt;\n",
       " &lt;script&gt;\n",
       "   var embedSpec = {\n",
       "     mode: &quot;vega-lite&quot;,\n",
       "     spec: {\n",
       "  &quot;mark&quot; : &quot;point&quot;,\n",
       "  &quot;encoding&quot; : {\n",
       "    &quot;x&quot; : {\n",
       "      &quot;field&quot; : &quot;Horsepower&quot;,\n",
       "      &quot;type&quot; : &quot;quantitative&quot;\n",
       "    },\n",
       "    &quot;y&quot; : {\n",
       "      &quot;field&quot; : &quot;Miles_per_Gallon&quot;,\n",
       "      &quot;type&quot; : &quot;quantitative&quot;\n",
       "    },\n",
       "    &quot;color&quot; : {\n",
       "      &quot;field&quot; : &quot;Acceleration&quot;,\n",
       "      &quot;type&quot; : &quot;quantitative&quot;,\n",
       "      &quot;bin&quot; : {\n",
       "        &quot;maxbins&quot; : 5.0\n",
       "      }\n",
       "    }\n",
       "  },\n",
       "  &quot;description&quot; : &quot;A scatterplot showing horsepower and miles per gallons with binned acceleration on color.&quot;,\n",
       "  &quot;data&quot; : {\n",
       "    &quot;url&quot; : &quot;https://vega.github.io/vega-editor/app/data/cars.json&quot;\n",
       "  }\n",
       "}\n",
       "   }\n",
       "   vg.embed(&quot;#vegas-11df264f-bea7-4436-a97f-20dd0c4ad5ae&quot;, embedSpec, function(error, result) {});\n",
       " &lt;/script&gt;\n",
       " &lt;div id='vegas-11df264f-bea7-4436-a97f-20dd0c4ad5ae'&gt;&lt;/div&gt;\n",
       "    &lt;/body&gt;\n",
       "&lt;/html&gt;\"></iframe>\n",
       "  <script>\n",
       "    if (typeof resizeIFrame != 'function') {\n",
       "      function resizeIFrame(el, k) {\n",
       "        el.style.height = el.contentWindow.document.body.scrollHeight + 'px';\n",
       "        if (k <= 7) { setTimeout(function() { resizeIFrame(el, k+1) }, 1000) };\n",
       "      }\n",
       "    }\n",
       "    $().ready( function() { resizeIFrame($('#frame-vegas-11df264f-bea7-4436-a97f-20dd0c4ad5ae').get(0), 1); });\n",
       "  </script>\n",
       "    "
      ]
     },
     "metadata": {},
     "output_type": "display_data"
    },
    {
     "data": {
      "text/plain": []
     },
     "metadata": {},
     "output_type": "display_data"
    }
   ],
   "source": [
    "Vegas(\"A scatterplot showing horsepower and miles per gallons with binned acceleration on color.\").\n",
    "  withURL(Cars).\n",
    "  mark(Point).\n",
    "  encodeX(\"Horsepower\", Quantitative).\n",
    "  encodeY(\"Miles_per_Gallon\", Quantitative).\n",
    "  encodeColor(field=\"Acceleration\", dataType=Quantitative, bin=Bin(maxbins=5.0)).\n",
    "  show\n"
   ]
  },
  {
   "cell_type": "code",
   "execution_count": 24,
   "metadata": {
    "collapsed": false
   },
   "outputs": [
    {
     "data": {
      "text/html": [
       "\n",
       "  <iframe id=\"frame-vegas-52cab6e8-b99a-448d-afac-3b9a73d8e8f2\" sandbox=\"allow-scripts allow-same-origin\" style=\"border: none; width: 100%\" srcdoc=\"&lt;html&gt;\n",
       "  &lt;head&gt;\n",
       "    &lt;script src=&quot;https:////d3js.org/d3.v3.min.js&quot; charset=&quot;utf-8&quot;&gt;&lt;/script&gt;\n",
       "&lt;script src=&quot;https://vega.github.io/vega/vega.js&quot; charset=&quot;utf-8&quot;&gt;&lt;/script&gt;\n",
       "&lt;script src=&quot;https://vega.github.io/vega-lite/vega-lite.js&quot; charset=&quot;utf-8&quot;&gt;&lt;/script&gt;\n",
       "&lt;script src=&quot;https://vega.github.io/vega-editor/vendor/vega-embed.js&quot; charset=&quot;utf-8&quot;&gt;&lt;/script&gt;\n",
       "  &lt;/head&gt;\n",
       "  &lt;body&gt;\n",
       " &lt;script&gt;\n",
       "   var embedSpec = {\n",
       "     mode: &quot;vega-lite&quot;,\n",
       "     spec: {\n",
       "  &quot;mark&quot; : &quot;area&quot;,\n",
       "  &quot;encoding&quot; : {\n",
       "    &quot;x&quot; : {\n",
       "      &quot;field&quot; : &quot;Acceleration&quot;,\n",
       "      &quot;type&quot; : &quot;quantitative&quot;,\n",
       "      &quot;bin&quot; : {\n",
       "        \n",
       "      }\n",
       "    },\n",
       "    &quot;y&quot; : {\n",
       "      &quot;field&quot; : &quot;Horsepower&quot;,\n",
       "      &quot;type&quot; : &quot;quantitative&quot;,\n",
       "      &quot;bin&quot; : false,\n",
       "      &quot;aggregate&quot; : &quot;mean&quot;\n",
       "    },\n",
       "    &quot;color&quot; : {\n",
       "      &quot;field&quot; : &quot;Cylinders&quot;,\n",
       "      &quot;type&quot; : &quot;nominal&quot;\n",
       "    }\n",
       "  },\n",
       "  &quot;data&quot; : {\n",
       "    &quot;url&quot; : &quot;https://vega.github.io/vega-editor/app/data/cars.json&quot;\n",
       "  }\n",
       "}\n",
       "   }\n",
       "   vg.embed(&quot;#vegas-52cab6e8-b99a-448d-afac-3b9a73d8e8f2&quot;, embedSpec, function(error, result) {});\n",
       " &lt;/script&gt;\n",
       " &lt;div id='vegas-52cab6e8-b99a-448d-afac-3b9a73d8e8f2'&gt;&lt;/div&gt;\n",
       "    &lt;/body&gt;\n",
       "&lt;/html&gt;\"></iframe>\n",
       "  <script>\n",
       "    if (typeof resizeIFrame != 'function') {\n",
       "      function resizeIFrame(el, k) {\n",
       "        el.style.height = el.contentWindow.document.body.scrollHeight + 'px';\n",
       "        if (k <= 7) { setTimeout(function() { resizeIFrame(el, k+1) }, 1000) };\n",
       "      }\n",
       "    }\n",
       "    $().ready( function() { resizeIFrame($('#frame-vegas-52cab6e8-b99a-448d-afac-3b9a73d8e8f2').get(0), 1); });\n",
       "  </script>\n",
       "    "
      ]
     },
     "metadata": {},
     "output_type": "display_data"
    },
    {
     "data": {
      "text/plain": []
     },
     "metadata": {},
     "output_type": "display_data"
    }
   ],
   "source": [
    "Vegas().\n",
    "  withURL(Cars).\n",
    "  mark(Area).\n",
    "  encodeX(\"Acceleration\", Quantitative, bin=Bin()).\n",
    "  encodeY(\"Horsepower\", Quantitative, AggOps.Mean, enableBin=false).\n",
    "  encodeColor(field=\"Cylinders\", dataType=Nominal).\n",
    "  show\n"
   ]
  },
  {
   "cell_type": "markdown",
   "metadata": {},
   "source": [
    "# The Trellis display by Becker et al. helped establish small multiples as a “powerful mechanism for understanding interactions in studies of how a response depends on explanatory variables”. Here we reproduce a trellis of Barley yields from the 1930s, complete with main-effects ordering to facilitate comparison."
   ]
  },
  {
   "cell_type": "code",
   "execution_count": 13,
   "metadata": {
    "collapsed": false
   },
   "outputs": [
    {
     "data": {
      "text/html": [
       "\n",
       "  <iframe id=\"frame-vegas-a96e5d0f-2975-4d8e-bfe5-7f115d344eb6\" sandbox=\"allow-scripts allow-same-origin\" style=\"border: none; width: 100%\" srcdoc=\"&lt;html&gt;\n",
       "  &lt;head&gt;\n",
       "    &lt;script src=&quot;https:////d3js.org/d3.v3.min.js&quot; charset=&quot;utf-8&quot;&gt;&lt;/script&gt;\n",
       "&lt;script src=&quot;https://vega.github.io/vega/vega.js&quot; charset=&quot;utf-8&quot;&gt;&lt;/script&gt;\n",
       "&lt;script src=&quot;https://vega.github.io/vega-lite/vega-lite.js&quot; charset=&quot;utf-8&quot;&gt;&lt;/script&gt;\n",
       "&lt;script src=&quot;https://vega.github.io/vega-editor/vendor/vega-embed.js&quot; charset=&quot;utf-8&quot;&gt;&lt;/script&gt;\n",
       "  &lt;/head&gt;\n",
       "  &lt;body&gt;\n",
       " &lt;script&gt;\n",
       "   var embedSpec = {\n",
       "     mode: &quot;vega-lite&quot;,\n",
       "     spec: {\n",
       "  &quot;mark&quot; : &quot;point&quot;,\n",
       "  &quot;encoding&quot; : {\n",
       "    &quot;row&quot; : {\n",
       "      &quot;field&quot; : &quot;site&quot;,\n",
       "      &quot;type&quot; : &quot;ordinal&quot;\n",
       "    },\n",
       "    &quot;x&quot; : {\n",
       "      &quot;field&quot; : &quot;yield&quot;,\n",
       "      &quot;type&quot; : &quot;quantitative&quot;,\n",
       "      &quot;aggregate&quot; : &quot;mean&quot;\n",
       "    },\n",
       "    &quot;y&quot; : {\n",
       "      &quot;scale&quot; : {\n",
       "        &quot;bandSize&quot; : 12.0\n",
       "      },\n",
       "      &quot;sort&quot; : {\n",
       "        &quot;field&quot; : &quot;yield&quot;,\n",
       "        &quot;op&quot; : &quot;mean&quot;\n",
       "      },\n",
       "      &quot;field&quot; : &quot;variety&quot;,\n",
       "      &quot;type&quot; : &quot;ordinal&quot;\n",
       "    },\n",
       "    &quot;color&quot; : {\n",
       "      &quot;field&quot; : &quot;year&quot;,\n",
       "      &quot;type&quot; : &quot;nominal&quot;\n",
       "    }\n",
       "  },\n",
       "  &quot;description&quot; : &quot;The Trellis display by Becker et al. helped establish small multiples as a “powerful mechanism for understanding interactions in studies of how a response depends on explanatory variables”. Here we reproduce a trellis of Barley yields from the 1930s, complete with main-effects ordering to facilitate comparison.&quot;,\n",
       "  &quot;data&quot; : {\n",
       "    &quot;url&quot; : &quot;https://vega.github.io/vega-editor/app/data/barley.json&quot;\n",
       "  }\n",
       "}\n",
       "   }\n",
       "   vg.embed(&quot;#vegas-a96e5d0f-2975-4d8e-bfe5-7f115d344eb6&quot;, embedSpec, function(error, result) {});\n",
       " &lt;/script&gt;\n",
       " &lt;div id='vegas-a96e5d0f-2975-4d8e-bfe5-7f115d344eb6'&gt;&lt;/div&gt;\n",
       "    &lt;/body&gt;\n",
       "&lt;/html&gt;\"></iframe>\n",
       "  <script>\n",
       "    if (typeof resizeIFrame != 'function') {\n",
       "      function resizeIFrame(el, k) {\n",
       "        el.style.height = el.contentWindow.document.body.scrollHeight + 'px';\n",
       "        if (k <= 7) { setTimeout(function() { resizeIFrame(el, k+1) }, 1000) };\n",
       "      }\n",
       "    }\n",
       "    $().ready( function() { resizeIFrame($('#frame-vegas-a96e5d0f-2975-4d8e-bfe5-7f115d344eb6').get(0), 1); });\n",
       "  </script>\n",
       "    "
      ]
     },
     "metadata": {},
     "output_type": "display_data"
    },
    {
     "data": {
      "text/plain": []
     },
     "metadata": {},
     "output_type": "display_data"
    }
   ],
   "source": [
    "Vegas(\"The Trellis display by Becker et al. helped establish small multiples as a “powerful mechanism for understanding interactions in studies of how a response depends on explanatory variables”. Here we reproduce a trellis of Barley yields from the 1930s, complete with main-effects ordering to facilitate comparison.\").\n",
    "  withURL(Barley).\n",
    "  mark(Point).\n",
    "  encodeRow(\"site\", Ordinal).\n",
    "  encodeX(\"yield\", Quantitative, aggregate=AggOps.Mean).\n",
    "  encodeY(\"variety\", Ordinal, sortField=Sort(\"yield\", AggOps.Mean), scale=Scale(bandSize = 12.0)).\n",
    "  encodeColor(field=\"year\", dataType=Nominal).\n",
    "  show\n"
   ]
  },
  {
   "cell_type": "markdown",
   "metadata": {},
   "source": [
    "# A scatterplot with custom star shapes."
   ]
  },
  {
   "cell_type": "code",
   "execution_count": 25,
   "metadata": {
    "collapsed": false
   },
   "outputs": [
    {
     "data": {
      "text/html": [
       "\n",
       "  <iframe id=\"frame-vegas-fbff9d99-e990-4834-bb64-dc1c2e59f913\" sandbox=\"allow-scripts allow-same-origin\" style=\"border: none; width: 100%\" srcdoc=\"&lt;html&gt;\n",
       "  &lt;head&gt;\n",
       "    &lt;script src=&quot;https:////d3js.org/d3.v3.min.js&quot; charset=&quot;utf-8&quot;&gt;&lt;/script&gt;\n",
       "&lt;script src=&quot;https://vega.github.io/vega/vega.js&quot; charset=&quot;utf-8&quot;&gt;&lt;/script&gt;\n",
       "&lt;script src=&quot;https://vega.github.io/vega-lite/vega-lite.js&quot; charset=&quot;utf-8&quot;&gt;&lt;/script&gt;\n",
       "&lt;script src=&quot;https://vega.github.io/vega-editor/vendor/vega-embed.js&quot; charset=&quot;utf-8&quot;&gt;&lt;/script&gt;\n",
       "  &lt;/head&gt;\n",
       "  &lt;body&gt;\n",
       " &lt;script&gt;\n",
       "   var embedSpec = {\n",
       "     mode: &quot;vega-lite&quot;,\n",
       "     spec: {\n",
       "  &quot;mark&quot; : &quot;point&quot;,\n",
       "  &quot;encoding&quot; : {\n",
       "    &quot;x&quot; : {\n",
       "      &quot;field&quot; : &quot;Horsepower&quot;,\n",
       "      &quot;type&quot; : &quot;quantitative&quot;\n",
       "    },\n",
       "    &quot;y&quot; : {\n",
       "      &quot;field&quot; : &quot;Miles_per_Gallon&quot;,\n",
       "      &quot;type&quot; : &quot;quantitative&quot;\n",
       "    },\n",
       "    &quot;color&quot; : {\n",
       "      &quot;field&quot; : &quot;Cylinders&quot;,\n",
       "      &quot;type&quot; : &quot;nominal&quot;\n",
       "    },\n",
       "    &quot;size&quot; : {\n",
       "      &quot;field&quot; : &quot;Weight_in_lbs&quot;,\n",
       "      &quot;type&quot; : &quot;quantitative&quot;\n",
       "    }\n",
       "  },\n",
       "  &quot;description&quot; : &quot;A scatterplot with custom star shapes.&quot;,\n",
       "  &quot;data&quot; : {\n",
       "    &quot;url&quot; : &quot;https://vega.github.io/vega-editor/app/data/cars.json&quot;\n",
       "  },\n",
       "  &quot;config&quot; : {\n",
       "    &quot;mark&quot; : {\n",
       "      &quot;shape&quot; : &quot;M0,0.2L0.2351,0.3236 0.1902,0.0618 0.3804,-0.1236 0.1175,-0.1618 0,-0.4 -0.1175,-0.1618 -0.3804,-0.1236 -0.1902,0.0618 -0.2351,0.3236 0,0.2Z&quot;\n",
       "    }\n",
       "  }\n",
       "}\n",
       "   }\n",
       "   vg.embed(&quot;#vegas-fbff9d99-e990-4834-bb64-dc1c2e59f913&quot;, embedSpec, function(error, result) {});\n",
       " &lt;/script&gt;\n",
       " &lt;div id='vegas-fbff9d99-e990-4834-bb64-dc1c2e59f913'&gt;&lt;/div&gt;\n",
       "    &lt;/body&gt;\n",
       "&lt;/html&gt;\"></iframe>\n",
       "  <script>\n",
       "    if (typeof resizeIFrame != 'function') {\n",
       "      function resizeIFrame(el, k) {\n",
       "        el.style.height = el.contentWindow.document.body.scrollHeight + 'px';\n",
       "        if (k <= 7) { setTimeout(function() { resizeIFrame(el, k+1) }, 1000) };\n",
       "      }\n",
       "    }\n",
       "    $().ready( function() { resizeIFrame($('#frame-vegas-fbff9d99-e990-4834-bb64-dc1c2e59f913').get(0), 1); });\n",
       "  </script>\n",
       "    "
      ]
     },
     "metadata": {},
     "output_type": "display_data"
    },
    {
     "data": {
      "text/plain": []
     },
     "metadata": {},
     "output_type": "display_data"
    }
   ],
   "source": [
    "Vegas(\"A scatterplot with custom star shapes.\").\n",
    "  withURL(Cars).\n",
    "  mark(Point).\n",
    "  encodeX(\"Horsepower\", Quant).\n",
    "  encodeY(\"Miles_per_Gallon\", Quant).\n",
    "  encodeColor(\"Cylinders\", Nom).\n",
    "  encodeSize(\"Weight_in_lbs\", Quant).\n",
    "  configMark(customShape=\"M0,0.2L0.2351,0.3236 0.1902,0.0618 0.3804,-0.1236 0.1175,-0.1618 0,-0.4 -0.1175,-0.1618 -0.3804,-0.1236 -0.1902,0.0618 -0.2351,0.3236 0,0.2Z\").\n",
    "  show\n"
   ]
  },
  {
   "cell_type": "markdown",
   "metadata": {},
   "source": [
    "# Plot with hard-coded size value"
   ]
  },
  {
   "cell_type": "code",
   "execution_count": 26,
   "metadata": {
    "collapsed": false
   },
   "outputs": [
    {
     "data": {
      "text/html": [
       "\n",
       "  <iframe id=\"frame-vegas-d20b73fa-d246-4618-8fe5-e1670342a599\" sandbox=\"allow-scripts allow-same-origin\" style=\"border: none; width: 100%\" srcdoc=\"&lt;html&gt;\n",
       "  &lt;head&gt;\n",
       "    &lt;script src=&quot;https:////d3js.org/d3.v3.min.js&quot; charset=&quot;utf-8&quot;&gt;&lt;/script&gt;\n",
       "&lt;script src=&quot;https://vega.github.io/vega/vega.js&quot; charset=&quot;utf-8&quot;&gt;&lt;/script&gt;\n",
       "&lt;script src=&quot;https://vega.github.io/vega-lite/vega-lite.js&quot; charset=&quot;utf-8&quot;&gt;&lt;/script&gt;\n",
       "&lt;script src=&quot;https://vega.github.io/vega-editor/vendor/vega-embed.js&quot; charset=&quot;utf-8&quot;&gt;&lt;/script&gt;\n",
       "  &lt;/head&gt;\n",
       "  &lt;body&gt;\n",
       " &lt;script&gt;\n",
       "   var embedSpec = {\n",
       "     mode: &quot;vega-lite&quot;,\n",
       "     spec: {\n",
       "  &quot;mark&quot; : &quot;circle&quot;,\n",
       "  &quot;encoding&quot; : {\n",
       "    &quot;x&quot; : {\n",
       "      &quot;field&quot; : &quot;Miles_per_Gallon&quot;,\n",
       "      &quot;type&quot; : &quot;quantitative&quot;\n",
       "    },\n",
       "    &quot;y&quot; : {\n",
       "      &quot;field&quot; : &quot;Horsepower&quot;,\n",
       "      &quot;type&quot; : &quot;quantitative&quot;\n",
       "    },\n",
       "    &quot;size&quot; : {\n",
       "      &quot;value&quot; : 201.0\n",
       "    }\n",
       "  },\n",
       "  &quot;description&quot; : &quot;Plot with hard-coded size value&quot;,\n",
       "  &quot;data&quot; : {\n",
       "    &quot;url&quot; : &quot;https://vega.github.io/vega-editor/app/data/cars.json&quot;\n",
       "  }\n",
       "}\n",
       "   }\n",
       "   vg.embed(&quot;#vegas-d20b73fa-d246-4618-8fe5-e1670342a599&quot;, embedSpec, function(error, result) {});\n",
       " &lt;/script&gt;\n",
       " &lt;div id='vegas-d20b73fa-d246-4618-8fe5-e1670342a599'&gt;&lt;/div&gt;\n",
       "    &lt;/body&gt;\n",
       "&lt;/html&gt;\"></iframe>\n",
       "  <script>\n",
       "    if (typeof resizeIFrame != 'function') {\n",
       "      function resizeIFrame(el, k) {\n",
       "        el.style.height = el.contentWindow.document.body.scrollHeight + 'px';\n",
       "        if (k <= 7) { setTimeout(function() { resizeIFrame(el, k+1) }, 1000) };\n",
       "      }\n",
       "    }\n",
       "    $().ready( function() { resizeIFrame($('#frame-vegas-d20b73fa-d246-4618-8fe5-e1670342a599').get(0), 1); });\n",
       "  </script>\n",
       "    "
      ]
     },
     "metadata": {},
     "output_type": "display_data"
    },
    {
     "data": {
      "text/plain": []
     },
     "metadata": {},
     "output_type": "display_data"
    }
   ],
   "source": [
    "Vegas(\"Plot with hard-coded size value\").\n",
    "  withURL(Cars).\n",
    "  mark(Circle).\n",
    "  encodeY(\"Horsepower\", Quantitative).\n",
    "  encodeX(\"Miles_per_Gallon\", Quantitative).\n",
    "  encodeSize(value=201L).\n",
    "  show\n"
   ]
  },
  {
   "cell_type": "markdown",
   "metadata": {},
   "source": [
    "# Plots both mean and IQR as a background layer"
   ]
  },
  {
   "cell_type": "code",
   "execution_count": 16,
   "metadata": {
    "collapsed": false
   },
   "outputs": [
    {
     "data": {
      "text/html": [
       "\n",
       "  <iframe id=\"frame-vegas-7932d97a-130c-406a-a422-695f76135bd3\" sandbox=\"allow-scripts allow-same-origin\" style=\"border: none; width: 100%\" srcdoc=\"&lt;html&gt;\n",
       "  &lt;head&gt;\n",
       "    &lt;script src=&quot;https:////d3js.org/d3.v3.min.js&quot; charset=&quot;utf-8&quot;&gt;&lt;/script&gt;\n",
       "&lt;script src=&quot;https://vega.github.io/vega/vega.js&quot; charset=&quot;utf-8&quot;&gt;&lt;/script&gt;\n",
       "&lt;script src=&quot;https://vega.github.io/vega-lite/vega-lite.js&quot; charset=&quot;utf-8&quot;&gt;&lt;/script&gt;\n",
       "&lt;script src=&quot;https://vega.github.io/vega-editor/vendor/vega-embed.js&quot; charset=&quot;utf-8&quot;&gt;&lt;/script&gt;\n",
       "  &lt;/head&gt;\n",
       "  &lt;body&gt;\n",
       " &lt;script&gt;\n",
       "   var embedSpec = {\n",
       "     mode: &quot;vega-lite&quot;,\n",
       "     spec: {\n",
       "  &quot;layers&quot; : [\n",
       "    {\n",
       "      &quot;mark&quot; : &quot;line&quot;,\n",
       "      &quot;encoding&quot; : {\n",
       "        &quot;x&quot; : {\n",
       "          &quot;field&quot; : &quot;age&quot;,\n",
       "          &quot;type&quot; : &quot;ordinal&quot;\n",
       "        },\n",
       "        &quot;y&quot; : {\n",
       "          &quot;field&quot; : &quot;people&quot;,\n",
       "          &quot;aggregate&quot; : &quot;mean&quot;\n",
       "        }\n",
       "      }\n",
       "    },\n",
       "    {\n",
       "      &quot;mark&quot; : &quot;area&quot;,\n",
       "      &quot;encoding&quot; : {\n",
       "        &quot;x&quot; : {\n",
       "          &quot;field&quot; : &quot;age&quot;,\n",
       "          &quot;type&quot; : &quot;ordinal&quot;\n",
       "        },\n",
       "        &quot;y&quot; : {\n",
       "          &quot;field&quot; : &quot;people&quot;,\n",
       "          &quot;aggregate&quot; : &quot;q1&quot;\n",
       "        },\n",
       "        &quot;y2&quot; : {\n",
       "          &quot;field&quot; : &quot;people&quot;,\n",
       "          &quot;aggregate&quot; : &quot;q3&quot;\n",
       "        }\n",
       "      }\n",
       "    }\n",
       "  ],\n",
       "  &quot;description&quot; : &quot;Plots both mean and IQR as a background layer&quot;,\n",
       "  &quot;data&quot; : {\n",
       "    &quot;url&quot; : &quot;https://vega.github.io/vega-editor/app/data/population.json&quot;\n",
       "  }\n",
       "}\n",
       "   }\n",
       "   vg.embed(&quot;#vegas-7932d97a-130c-406a-a422-695f76135bd3&quot;, embedSpec, function(error, result) {});\n",
       " &lt;/script&gt;\n",
       " &lt;div id='vegas-7932d97a-130c-406a-a422-695f76135bd3'&gt;&lt;/div&gt;\n",
       "    &lt;/body&gt;\n",
       "&lt;/html&gt;\"></iframe>\n",
       "  <script>\n",
       "    if (typeof resizeIFrame != 'function') {\n",
       "      function resizeIFrame(el, k) {\n",
       "        el.style.height = el.contentWindow.document.body.scrollHeight + 'px';\n",
       "        if (k <= 7) { setTimeout(function() { resizeIFrame(el, k+1) }, 1000) };\n",
       "      }\n",
       "    }\n",
       "    $().ready( function() { resizeIFrame($('#frame-vegas-7932d97a-130c-406a-a422-695f76135bd3').get(0), 1); });\n",
       "  </script>\n",
       "    "
      ]
     },
     "metadata": {},
     "output_type": "display_data"
    },
    {
     "data": {
      "text/plain": []
     },
     "metadata": {},
     "output_type": "display_data"
    }
   ],
   "source": [
    "Vegas.layered(\"Plots both mean and IQR as a background layer\").\n",
    "  withURL(Population).\n",
    "  withLayers(\n",
    "    Layer().\n",
    "      mark(Line).\n",
    "      encodeX(\"age\", Ordinal).\n",
    "      encodeY(\"people\", aggregate=AggOps.Mean),\n",
    "    Layer().\n",
    "      mark(Area).\n",
    "      encodeX(\"age\", Ordinal).\n",
    "      encodeY(\"people\", aggregate=AggOps.Q1).\n",
    "      encodeY2(\"people\", aggregate=AggOps.Q3)\n",
    "  ).\n",
    "  show\n"
   ]
  },
  {
   "cell_type": "markdown",
   "metadata": {},
   "source": [
    "# Plot with legend on the left and a different title "
   ]
  },
  {
   "cell_type": "code",
   "execution_count": 17,
   "metadata": {
    "collapsed": false
   },
   "outputs": [
    {
     "data": {
      "text/html": [
       "\n",
       "  <iframe id=\"frame-vegas-8a63ceda-bdbf-4f3f-87e6-7f04918b5306\" sandbox=\"allow-scripts allow-same-origin\" style=\"border: none; width: 100%\" srcdoc=\"&lt;html&gt;\n",
       "  &lt;head&gt;\n",
       "    &lt;script src=&quot;https:////d3js.org/d3.v3.min.js&quot; charset=&quot;utf-8&quot;&gt;&lt;/script&gt;\n",
       "&lt;script src=&quot;https://vega.github.io/vega/vega.js&quot; charset=&quot;utf-8&quot;&gt;&lt;/script&gt;\n",
       "&lt;script src=&quot;https://vega.github.io/vega-lite/vega-lite.js&quot; charset=&quot;utf-8&quot;&gt;&lt;/script&gt;\n",
       "&lt;script src=&quot;https://vega.github.io/vega-editor/vendor/vega-embed.js&quot; charset=&quot;utf-8&quot;&gt;&lt;/script&gt;\n",
       "  &lt;/head&gt;\n",
       "  &lt;body&gt;\n",
       " &lt;script&gt;\n",
       "   var embedSpec = {\n",
       "     mode: &quot;vega-lite&quot;,\n",
       "     spec: {\n",
       "  &quot;mark&quot; : &quot;point&quot;,\n",
       "  &quot;encoding&quot; : {\n",
       "    &quot;x&quot; : {\n",
       "      &quot;field&quot; : &quot;Miles_per_Gallon&quot;,\n",
       "      &quot;type&quot; : &quot;quantitative&quot;\n",
       "    },\n",
       "    &quot;y&quot; : {\n",
       "      &quot;field&quot; : &quot;Horsepower&quot;,\n",
       "      &quot;type&quot; : &quot;quantitative&quot;\n",
       "    },\n",
       "    &quot;color&quot; : {\n",
       "      &quot;legend&quot; : {\n",
       "        &quot;title&quot; : &quot;Place of Origin&quot;,\n",
       "        &quot;orient&quot; : &quot;left&quot;\n",
       "      },\n",
       "      &quot;field&quot; : &quot;Origin&quot;,\n",
       "      &quot;type&quot; : &quot;nominal&quot;\n",
       "    },\n",
       "    &quot;shape&quot; : {\n",
       "      &quot;legend&quot; : {\n",
       "        &quot;title&quot; : &quot;Place of Origin&quot;,\n",
       "        &quot;orient&quot; : &quot;left&quot;,\n",
       "        &quot;titleColor&quot; : &quot;red&quot;\n",
       "      },\n",
       "      &quot;field&quot; : &quot;Origin&quot;,\n",
       "      &quot;type&quot; : &quot;nominal&quot;\n",
       "    }\n",
       "  },\n",
       "  &quot;description&quot; : &quot;Plot with legend on the left and a different title &quot;,\n",
       "  &quot;data&quot; : {\n",
       "    &quot;url&quot; : &quot;https://vega.github.io/vega-editor/app/data/cars.json&quot;\n",
       "  }\n",
       "}\n",
       "   }\n",
       "   vg.embed(&quot;#vegas-8a63ceda-bdbf-4f3f-87e6-7f04918b5306&quot;, embedSpec, function(error, result) {});\n",
       " &lt;/script&gt;\n",
       " &lt;div id='vegas-8a63ceda-bdbf-4f3f-87e6-7f04918b5306'&gt;&lt;/div&gt;\n",
       "    &lt;/body&gt;\n",
       "&lt;/html&gt;\"></iframe>\n",
       "  <script>\n",
       "    if (typeof resizeIFrame != 'function') {\n",
       "      function resizeIFrame(el, k) {\n",
       "        el.style.height = el.contentWindow.document.body.scrollHeight + 'px';\n",
       "        if (k <= 7) { setTimeout(function() { resizeIFrame(el, k+1) }, 1000) };\n",
       "      }\n",
       "    }\n",
       "    $().ready( function() { resizeIFrame($('#frame-vegas-8a63ceda-bdbf-4f3f-87e6-7f04918b5306').get(0), 1); });\n",
       "  </script>\n",
       "    "
      ]
     },
     "metadata": {},
     "output_type": "display_data"
    },
    {
     "data": {
      "text/plain": []
     },
     "metadata": {},
     "output_type": "display_data"
    }
   ],
   "source": [
    "Vegas(\"Plot with legend on the left and a different title \").\n",
    "  withURL(Cars).\n",
    "  mark(Point).\n",
    "  encodeY(\"Horsepower\", Quantitative).\n",
    "  encodeX(\"Miles_per_Gallon\", Quantitative).\n",
    "  encodeColor(field=\"Origin\", dataType=Nominal, legend=Legend(orient = \"left\", title=\"Place of Origin\" )).\n",
    "  encodeShape(field=\"Origin\", dataType=Nominal, legend=Legend(orient = \"left\", title=\"Place of Origin\",\n",
    "    titleColor=\"red\")).\n",
    "  show\n"
   ]
  },
  {
   "cell_type": "markdown",
   "metadata": {},
   "source": [
    "# Plot to show Binning options"
   ]
  },
  {
   "cell_type": "code",
   "execution_count": 18,
   "metadata": {
    "collapsed": false
   },
   "outputs": [
    {
     "data": {
      "text/html": [
       "\n",
       "  <iframe id=\"frame-vegas-50497b58-04b7-41e3-abb3-c189c0d8d11e\" sandbox=\"allow-scripts allow-same-origin\" style=\"border: none; width: 100%\" srcdoc=\"&lt;html&gt;\n",
       "  &lt;head&gt;\n",
       "    &lt;script src=&quot;https:////d3js.org/d3.v3.min.js&quot; charset=&quot;utf-8&quot;&gt;&lt;/script&gt;\n",
       "&lt;script src=&quot;https://vega.github.io/vega/vega.js&quot; charset=&quot;utf-8&quot;&gt;&lt;/script&gt;\n",
       "&lt;script src=&quot;https://vega.github.io/vega-lite/vega-lite.js&quot; charset=&quot;utf-8&quot;&gt;&lt;/script&gt;\n",
       "&lt;script src=&quot;https://vega.github.io/vega-editor/vendor/vega-embed.js&quot; charset=&quot;utf-8&quot;&gt;&lt;/script&gt;\n",
       "  &lt;/head&gt;\n",
       "  &lt;body&gt;\n",
       " &lt;script&gt;\n",
       "   var embedSpec = {\n",
       "     mode: &quot;vega-lite&quot;,\n",
       "     spec: {\n",
       "  &quot;mark&quot; : &quot;bar&quot;,\n",
       "  &quot;encoding&quot; : {\n",
       "    &quot;x&quot; : {\n",
       "      &quot;field&quot; : &quot;IMDB_Rating&quot;,\n",
       "      &quot;type&quot; : &quot;quantitative&quot;,\n",
       "      &quot;bin&quot; : {\n",
       "        &quot;step&quot; : 2.0,\n",
       "        &quot;maxbins&quot; : 3.0\n",
       "      }\n",
       "    },\n",
       "    &quot;y&quot; : {\n",
       "      &quot;field&quot; : &quot;*&quot;,\n",
       "      &quot;type&quot; : &quot;quantitative&quot;,\n",
       "      &quot;aggregate&quot; : &quot;count&quot;\n",
       "    }\n",
       "  },\n",
       "  &quot;description&quot; : &quot;Plot to show Binning options&quot;,\n",
       "  &quot;data&quot; : {\n",
       "    &quot;url&quot; : &quot;https://vega.github.io/vega-editor/app/data/movies.json&quot;\n",
       "  }\n",
       "}\n",
       "   }\n",
       "   vg.embed(&quot;#vegas-50497b58-04b7-41e3-abb3-c189c0d8d11e&quot;, embedSpec, function(error, result) {});\n",
       " &lt;/script&gt;\n",
       " &lt;div id='vegas-50497b58-04b7-41e3-abb3-c189c0d8d11e'&gt;&lt;/div&gt;\n",
       "    &lt;/body&gt;\n",
       "&lt;/html&gt;\"></iframe>\n",
       "  <script>\n",
       "    if (typeof resizeIFrame != 'function') {\n",
       "      function resizeIFrame(el, k) {\n",
       "        el.style.height = el.contentWindow.document.body.scrollHeight + 'px';\n",
       "        if (k <= 7) { setTimeout(function() { resizeIFrame(el, k+1) }, 1000) };\n",
       "      }\n",
       "    }\n",
       "    $().ready( function() { resizeIFrame($('#frame-vegas-50497b58-04b7-41e3-abb3-c189c0d8d11e').get(0), 1); });\n",
       "  </script>\n",
       "    "
      ]
     },
     "metadata": {},
     "output_type": "display_data"
    },
    {
     "data": {
      "text/plain": []
     },
     "metadata": {},
     "output_type": "display_data"
    }
   ],
   "source": [
    "Vegas(\"Plot to show Binning options\").\n",
    "  withURL(Movies).\n",
    "  mark(Bar).\n",
    "  encodeX(\"IMDB_Rating\", Quantitative, bin=Bin(step=2.0, maxbins=3.0)).\n",
    "  encodeY(field=\"*\", Quantitative, aggregate=AggOps.Count).\n",
    "  show\n"
   ]
  },
  {
   "cell_type": "markdown",
   "metadata": {},
   "source": [
    "# Plot to show Binning options"
   ]
  },
  {
   "cell_type": "code",
   "execution_count": 19,
   "metadata": {
    "collapsed": false
   },
   "outputs": [
    {
     "data": {
      "text/html": [
       "\n",
       "  <iframe id=\"frame-vegas-4917bf91-7b46-4eef-8f20-0af48a392ae9\" sandbox=\"allow-scripts allow-same-origin\" style=\"border: none; width: 100%\" srcdoc=\"&lt;html&gt;\n",
       "  &lt;head&gt;\n",
       "    &lt;script src=&quot;https:////d3js.org/d3.v3.min.js&quot; charset=&quot;utf-8&quot;&gt;&lt;/script&gt;\n",
       "&lt;script src=&quot;https://vega.github.io/vega/vega.js&quot; charset=&quot;utf-8&quot;&gt;&lt;/script&gt;\n",
       "&lt;script src=&quot;https://vega.github.io/vega-lite/vega-lite.js&quot; charset=&quot;utf-8&quot;&gt;&lt;/script&gt;\n",
       "&lt;script src=&quot;https://vega.github.io/vega-editor/vendor/vega-embed.js&quot; charset=&quot;utf-8&quot;&gt;&lt;/script&gt;\n",
       "  &lt;/head&gt;\n",
       "  &lt;body&gt;\n",
       " &lt;script&gt;\n",
       "   var embedSpec = {\n",
       "     mode: &quot;vega-lite&quot;,\n",
       "     spec: {\n",
       "  &quot;mark&quot; : &quot;bar&quot;,\n",
       "  &quot;encoding&quot; : {\n",
       "    &quot;x&quot; : {\n",
       "      &quot;sort&quot; : &quot;descending&quot;,\n",
       "      &quot;field&quot; : &quot;Worldwide_Gross&quot;,\n",
       "      &quot;type&quot; : &quot;quantitative&quot;,\n",
       "      &quot;bin&quot; : {\n",
       "        &quot;maxbins&quot; : 20.0\n",
       "      }\n",
       "    },\n",
       "    &quot;y&quot; : {\n",
       "      &quot;field&quot; : &quot;*&quot;,\n",
       "      &quot;type&quot; : &quot;quantitative&quot;,\n",
       "      &quot;aggregate&quot; : &quot;count&quot;\n",
       "    }\n",
       "  },\n",
       "  &quot;description&quot; : &quot;Plot to show Binning options&quot;,\n",
       "  &quot;data&quot; : {\n",
       "    &quot;url&quot; : &quot;https://vega.github.io/vega-editor/app/data/movies.json&quot;\n",
       "  }\n",
       "}\n",
       "   }\n",
       "   vg.embed(&quot;#vegas-4917bf91-7b46-4eef-8f20-0af48a392ae9&quot;, embedSpec, function(error, result) {});\n",
       " &lt;/script&gt;\n",
       " &lt;div id='vegas-4917bf91-7b46-4eef-8f20-0af48a392ae9'&gt;&lt;/div&gt;\n",
       "    &lt;/body&gt;\n",
       "&lt;/html&gt;\"></iframe>\n",
       "  <script>\n",
       "    if (typeof resizeIFrame != 'function') {\n",
       "      function resizeIFrame(el, k) {\n",
       "        el.style.height = el.contentWindow.document.body.scrollHeight + 'px';\n",
       "        if (k <= 7) { setTimeout(function() { resizeIFrame(el, k+1) }, 1000) };\n",
       "      }\n",
       "    }\n",
       "    $().ready( function() { resizeIFrame($('#frame-vegas-4917bf91-7b46-4eef-8f20-0af48a392ae9').get(0), 1); });\n",
       "  </script>\n",
       "    "
      ]
     },
     "metadata": {},
     "output_type": "display_data"
    },
    {
     "data": {
      "text/plain": []
     },
     "metadata": {},
     "output_type": "display_data"
    }
   ],
   "source": [
    "Vegas(\"Plot to show Binning options\").\n",
    "  withURL(Movies).\n",
    "  mark(Bar).\n",
    "  encodeX(\"Worldwide_Gross\", Quantitative, bin=Bin(maxbins=20.0), sortOrder=SortOrder.Descending).\n",
    "  encodeY(field=\"*\", Quantitative, aggregate=AggOps.Count).\n",
    "  show\n"
   ]
  },
  {
   "cell_type": "markdown",
   "metadata": {},
   "source": [
    "# Plot to show usage of encodeText"
   ]
  },
  {
   "cell_type": "code",
   "execution_count": 20,
   "metadata": {
    "collapsed": false
   },
   "outputs": [
    {
     "data": {
      "text/html": [
       "\n",
       "  <iframe id=\"frame-vegas-112b9444-c601-42d0-af50-b17419657269\" sandbox=\"allow-scripts allow-same-origin\" style=\"border: none; width: 100%\" srcdoc=\"&lt;html&gt;\n",
       "  &lt;head&gt;\n",
       "    &lt;script src=&quot;https:////d3js.org/d3.v3.min.js&quot; charset=&quot;utf-8&quot;&gt;&lt;/script&gt;\n",
       "&lt;script src=&quot;https://vega.github.io/vega/vega.js&quot; charset=&quot;utf-8&quot;&gt;&lt;/script&gt;\n",
       "&lt;script src=&quot;https://vega.github.io/vega-lite/vega-lite.js&quot; charset=&quot;utf-8&quot;&gt;&lt;/script&gt;\n",
       "&lt;script src=&quot;https://vega.github.io/vega-editor/vendor/vega-embed.js&quot; charset=&quot;utf-8&quot;&gt;&lt;/script&gt;\n",
       "  &lt;/head&gt;\n",
       "  &lt;body&gt;\n",
       " &lt;script&gt;\n",
       "   var embedSpec = {\n",
       "     mode: &quot;vega-lite&quot;,\n",
       "     spec: {\n",
       "  &quot;mark&quot; : &quot;text&quot;,\n",
       "  &quot;encoding&quot; : {\n",
       "    &quot;x&quot; : {\n",
       "      &quot;field&quot; : &quot;Horsepower&quot;,\n",
       "      &quot;type&quot; : &quot;quantitative&quot;\n",
       "    },\n",
       "    &quot;y&quot; : {\n",
       "      &quot;field&quot; : &quot;Miles_per_Gallon&quot;,\n",
       "      &quot;type&quot; : &quot;quantitative&quot;\n",
       "    },\n",
       "    &quot;color&quot; : {\n",
       "      &quot;field&quot; : &quot;Origin&quot;,\n",
       "      &quot;type&quot; : &quot;nominal&quot;\n",
       "    },\n",
       "    &quot;text&quot; : {\n",
       "      &quot;field&quot; : &quot;OriginInitial&quot;,\n",
       "      &quot;type&quot; : &quot;nominal&quot;\n",
       "    }\n",
       "  },\n",
       "  &quot;description&quot; : &quot;Plot to show usage of encodeText&quot;,\n",
       "  &quot;data&quot; : {\n",
       "    &quot;url&quot; : &quot;https://vega.github.io/vega-editor/app/data/cars.json&quot;\n",
       "  },\n",
       "  &quot;transform&quot; : {\n",
       "    &quot;calculate&quot; : [\n",
       "      {\n",
       "        &quot;field&quot; : &quot;OriginInitial&quot;,\n",
       "        &quot;expr&quot; : &quot;datum.Origin[0]&quot;\n",
       "      }\n",
       "    ]\n",
       "  }\n",
       "}\n",
       "   }\n",
       "   vg.embed(&quot;#vegas-112b9444-c601-42d0-af50-b17419657269&quot;, embedSpec, function(error, result) {});\n",
       " &lt;/script&gt;\n",
       " &lt;div id='vegas-112b9444-c601-42d0-af50-b17419657269'&gt;&lt;/div&gt;\n",
       "    &lt;/body&gt;\n",
       "&lt;/html&gt;\"></iframe>\n",
       "  <script>\n",
       "    if (typeof resizeIFrame != 'function') {\n",
       "      function resizeIFrame(el, k) {\n",
       "        el.style.height = el.contentWindow.document.body.scrollHeight + 'px';\n",
       "        if (k <= 7) { setTimeout(function() { resizeIFrame(el, k+1) }, 1000) };\n",
       "      }\n",
       "    }\n",
       "    $().ready( function() { resizeIFrame($('#frame-vegas-112b9444-c601-42d0-af50-b17419657269').get(0), 1); });\n",
       "  </script>\n",
       "    "
      ]
     },
     "metadata": {},
     "output_type": "display_data"
    },
    {
     "data": {
      "text/plain": []
     },
     "metadata": {},
     "output_type": "display_data"
    }
   ],
   "source": [
    "Vegas(\"Plot to show usage of encodeText\").\n",
    "  withURL(Cars).addTransformCalculation(\"OriginInitial\", \"datum.Origin[0]\").\n",
    "  mark(Text).\n",
    "  encodeX(\"Horsepower\", Quantitative).\n",
    "  encodeY(\"Miles_per_Gallon\", Quantitative).\n",
    "  encodeColor(field=\"Origin\", dataType= Nominal).\n",
    "  encodeText(field=\"OriginInitial\", dataType= Nominal).\n",
    "  show\n"
   ]
  },
  {
   "cell_type": "code",
   "execution_count": null,
   "metadata": {
    "collapsed": true
   },
   "outputs": [],
   "source": []
  },
  {
   "cell_type": "code",
   "execution_count": null,
   "metadata": {
    "collapsed": true
   },
   "outputs": [],
   "source": []
  },
  {
   "cell_type": "code",
   "execution_count": null,
   "metadata": {
    "collapsed": true
   },
   "outputs": [],
   "source": []
  }
 ],
 "metadata": {
  "kernelspec": {
   "display_name": "Scala 2.11",
   "language": "scala211",
   "name": "scala211"
  },
  "language_info": {
   "codemirror_mode": "text/x-scala",
   "file_extension": ".scala",
   "mimetype": "text/x-scala",
   "name": "scala211",
   "pygments_lexer": "scala",
   "version": "2.11.6"
  }
 },
 "nbformat": 4,
 "nbformat_minor": 0
}
